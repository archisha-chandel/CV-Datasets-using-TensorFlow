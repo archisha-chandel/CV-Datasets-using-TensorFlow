{
 "cells": [
  {
   "cell_type": "markdown",
   "metadata": {},
   "source": [
    "## Importing Libraries"
   ]
  },
  {
   "cell_type": "code",
   "execution_count": 1,
   "metadata": {},
   "outputs": [
    {
     "name": "stderr",
     "output_type": "stream",
     "text": [
      "Using TensorFlow backend.\n"
     ]
    }
   ],
   "source": [
    "import os\n",
    "import wget\n",
    "import glob\n",
    "import random\n",
    "import zipfile\n",
    "import numpy as np\n",
    "import tensorflow as tf\n",
    "import matplotlib.pyplot as plt\n",
    "import matplotlib.image as mpimg\n",
    "\n",
    "from keras.preprocessing import image\n",
    "from tensorflow.keras.optimizers import RMSprop\n",
    "from tensorflow.keras.preprocessing.image import ImageDataGenerator\n",
    "from tensorflow.keras.preprocessing.image import img_to_array, load_img\n",
    "\n",
    "%matplotlib inline"
   ]
  },
  {
   "cell_type": "markdown",
   "metadata": {},
   "source": [
    "## Downloading Data"
   ]
  },
  {
   "cell_type": "code",
   "execution_count": null,
   "metadata": {},
   "outputs": [],
   "source": [
    "path = os.getcwd()+\"\\data\\cat-dog.zip\"\n",
    "url = \"https://storage.googleapis.com/mledu-datasets/cats_and_dogs_filtered.zip\"\n",
    "train = wget.download(url, out = path)"
   ]
  },
  {
   "cell_type": "markdown",
   "metadata": {},
   "source": [
    "## Extracting Data"
   ]
  },
  {
   "cell_type": "code",
   "execution_count": null,
   "metadata": {},
   "outputs": [],
   "source": [
    "local_zip = 'data/cat-dog.zip'\n",
    "zip_ref = zipfile.ZipFile(local_zip, 'r')\n",
    "zip_ref.extractall('data/')\n",
    "zip_ref.close()"
   ]
  },
  {
   "cell_type": "markdown",
   "metadata": {},
   "source": [
    "## Defining Directories and Labelling"
   ]
  },
  {
   "cell_type": "code",
   "execution_count": 2,
   "metadata": {},
   "outputs": [],
   "source": [
    "base_dir = 'data\\cats_and_dogs_filtered'\n",
    "\n",
    "train_dir = os.path.join(base_dir, 'train')\n",
    "validation_dir = os.path.join(base_dir, 'validation')\n",
    "\n",
    "# Directory with our training cat/dog pictures\n",
    "train_cats_dir = os.path.join(train_dir, 'cats')\n",
    "train_dogs_dir = os.path.join(train_dir, 'dogs')\n",
    "\n",
    "# Directory with our validation cat/dog pictures\n",
    "validation_cats_dir = os.path.join(validation_dir, 'cats')\n",
    "validation_dogs_dir = os.path.join(validation_dir, 'dogs')"
   ]
  },
  {
   "cell_type": "markdown",
   "metadata": {},
   "source": [
    "## Building Model"
   ]
  },
  {
   "cell_type": "code",
   "execution_count": 3,
   "metadata": {},
   "outputs": [
    {
     "name": "stdout",
     "output_type": "stream",
     "text": [
      "WARNING:tensorflow:From C:\\Users\\Parivi\\AppData\\Roaming\\Python\\Python36\\site-packages\\tensorflow_core\\python\\ops\\resource_variable_ops.py:1630: calling BaseResourceVariable.__init__ (from tensorflow.python.ops.resource_variable_ops) with constraint is deprecated and will be removed in a future version.\n",
      "Instructions for updating:\n",
      "If using Keras pass *_constraint arguments to layers.\n"
     ]
    }
   ],
   "source": [
    "model = tf.keras.models.Sequential([\n",
    "    tf.keras.layers.Conv2D(32, (3,3), activation='relu', input_shape=(150, 150, 3)),\n",
    "    tf.keras.layers.MaxPooling2D(2, 2),\n",
    "    tf.keras.layers.Conv2D(64, (3,3), activation='relu'),\n",
    "    tf.keras.layers.MaxPooling2D(2,2),\n",
    "    tf.keras.layers.Conv2D(128, (3,3), activation='relu'),\n",
    "    tf.keras.layers.MaxPooling2D(2,2),\n",
    "    tf.keras.layers.Conv2D(128, (3,3), activation='relu'),\n",
    "    tf.keras.layers.MaxPooling2D(2,2),\n",
    "    tf.keras.layers.Flatten(),\n",
    "    tf.keras.layers.Dense(512, activation='relu'),\n",
    "    tf.keras.layers.Dense(1, activation='sigmoid')\n",
    "])"
   ]
  },
  {
   "cell_type": "markdown",
   "metadata": {},
   "source": [
    "## Compiling Model"
   ]
  },
  {
   "cell_type": "code",
   "execution_count": 4,
   "metadata": {},
   "outputs": [
    {
     "name": "stdout",
     "output_type": "stream",
     "text": [
      "WARNING:tensorflow:From C:\\Users\\Parivi\\AppData\\Roaming\\Python\\Python36\\site-packages\\tensorflow_core\\python\\ops\\nn_impl.py:183: where (from tensorflow.python.ops.array_ops) is deprecated and will be removed in a future version.\n",
      "Instructions for updating:\n",
      "Use tf.where in 2.0, which has the same broadcast rule as np.where\n"
     ]
    }
   ],
   "source": [
    "model.compile(loss='binary_crossentropy',\n",
    "              optimizer=RMSprop(lr=1e-4),\n",
    "              metrics=['accuracy'])"
   ]
  },
  {
   "cell_type": "markdown",
   "metadata": {},
   "source": [
    "## Previous Preprocessing\n",
    "Preprocessing and training the model to validating it hence visualising training and validation accuracy and loss."
   ]
  },
  {
   "cell_type": "code",
   "execution_count": 5,
   "metadata": {},
   "outputs": [
    {
     "name": "stdout",
     "output_type": "stream",
     "text": [
      "Found 2000 images belonging to 2 classes.\n",
      "Found 1000 images belonging to 2 classes.\n"
     ]
    }
   ],
   "source": [
    "# All images will be rescaled by 1./255\n",
    "train_datagen = ImageDataGenerator(rescale=1./255)\n",
    "test_datagen = ImageDataGenerator(rescale=1./255)\n",
    "\n",
    "# Flow training images in batches of 20 using train_datagen generator\n",
    "train_generator = train_datagen.flow_from_directory(\n",
    "        train_dir,  # This is the source directory for training images\n",
    "        target_size=(150, 150),  # All images will be resized to 150x150\n",
    "        batch_size=20,\n",
    "        # Since we use binary_crossentropy loss, we need binary labels\n",
    "        class_mode='binary')\n",
    "\n",
    "# Flow validation images in batches of 20 using test_datagen generator\n",
    "validation_generator = test_datagen.flow_from_directory(\n",
    "        validation_dir,\n",
    "        target_size=(150, 150),\n",
    "        batch_size=20,\n",
    "        class_mode='binary')"
   ]
  },
  {
   "cell_type": "markdown",
   "metadata": {},
   "source": [
    "## Fitting"
   ]
  },
  {
   "cell_type": "code",
   "execution_count": 7,
   "metadata": {
    "scrolled": true
   },
   "outputs": [
    {
     "name": "stdout",
     "output_type": "stream",
     "text": [
      "Epoch 1/15\n",
      "Epoch 1/15\n",
      "100/100 - 74s - loss: 0.4302 - acc: 0.8010 - val_loss: 0.5577 - val_acc: 0.7150\n",
      "Epoch 2/15\n",
      "Epoch 1/15\n",
      "100/100 - 76s - loss: 0.3946 - acc: 0.8275 - val_loss: 0.5166 - val_acc: 0.7470\n",
      "Epoch 3/15\n",
      "Epoch 1/15\n",
      "100/100 - 76s - loss: 0.3617 - acc: 0.8465 - val_loss: 0.5602 - val_acc: 0.7140\n",
      "Epoch 4/15\n",
      "Epoch 1/15\n",
      "100/100 - 76s - loss: 0.3460 - acc: 0.8515 - val_loss: 0.5833 - val_acc: 0.7180\n",
      "Epoch 5/15\n",
      "Epoch 1/15\n",
      "100/100 - 75s - loss: 0.3213 - acc: 0.8655 - val_loss: 0.5325 - val_acc: 0.7410\n",
      "Epoch 6/15\n",
      "Epoch 1/15\n",
      "100/100 - 76s - loss: 0.2921 - acc: 0.8805 - val_loss: 0.5473 - val_acc: 0.7500\n",
      "Epoch 7/15\n",
      "Epoch 1/15\n",
      "100/100 - 78s - loss: 0.2667 - acc: 0.8990 - val_loss: 0.5469 - val_acc: 0.7460\n",
      "Epoch 8/15\n",
      "Epoch 1/15\n",
      "100/100 - 78s - loss: 0.2492 - acc: 0.8970 - val_loss: 0.5538 - val_acc: 0.7500\n",
      "Epoch 9/15\n",
      "Epoch 1/15\n",
      "100/100 - 78s - loss: 0.2196 - acc: 0.9115 - val_loss: 0.5908 - val_acc: 0.7610\n",
      "Epoch 10/15\n",
      "Epoch 1/15\n",
      "100/100 - 77s - loss: 0.2022 - acc: 0.9175 - val_loss: 0.5923 - val_acc: 0.7430\n",
      "Epoch 11/15\n",
      "Epoch 1/15\n",
      "100/100 - 77s - loss: 0.1812 - acc: 0.9315 - val_loss: 0.6008 - val_acc: 0.7540\n",
      "Epoch 12/15\n",
      "Epoch 1/15\n",
      "100/100 - 76s - loss: 0.1518 - acc: 0.9490 - val_loss: 0.6473 - val_acc: 0.7560\n",
      "Epoch 13/15\n",
      "Epoch 1/15\n",
      "100/100 - 76s - loss: 0.1406 - acc: 0.9495 - val_loss: 0.7430 - val_acc: 0.7200\n",
      "Epoch 14/15\n",
      "Epoch 1/15\n",
      "100/100 - 76s - loss: 0.1186 - acc: 0.9625 - val_loss: 0.6732 - val_acc: 0.7530\n",
      "Epoch 15/15\n",
      "Epoch 1/15\n",
      "100/100 - 76s - loss: 0.1103 - acc: 0.9625 - val_loss: 0.6887 - val_acc: 0.7520\n"
     ]
    }
   ],
   "source": [
    "history = model.fit(\n",
    "      train_generator,\n",
    "      steps_per_epoch=100,  # 2000 images = batch_size * steps\n",
    "      epochs=15,\n",
    "      validation_data=validation_generator,\n",
    "      validation_steps=50,  # 1000 images = batch_size * steps\n",
    "      verbose=2)"
   ]
  },
  {
   "cell_type": "markdown",
   "metadata": {},
   "source": [
    "## Visualising Traing and Validation Accuracy and Loss"
   ]
  },
  {
   "cell_type": "code",
   "execution_count": 10,
   "metadata": {},
   "outputs": [
    {
     "data": {
      "image/png": "[encoded data removed]",
      "text/plain": [
       "<Figure size 432x288 with 1 Axes>"
      ]
     },
     "metadata": {
      "needs_background": "light"
     },
     "output_type": "display_data"
    },
    {
     "data": {
      "image/png": "[encoded data removed]",
      "text/plain": [
       "<Figure size 432x288 with 1 Axes>"
      ]
     },
     "metadata": {
      "needs_background": "light"
     },
     "output_type": "display_data"
    }
   ],
   "source": [
    "def visualise_acc_loss(history):\n",
    "    acc = history.history['acc']\n",
    "    val_acc = history.history['val_acc']\n",
    "    loss = history.history['loss']\n",
    "    val_loss = history.history['val_loss']\n",
    "\n",
    "    epochs = range(len(acc))\n",
    "\n",
    "    plt.plot(epochs, acc, 'bo', label='Training accuracy')\n",
    "    plt.plot(epochs, val_acc, 'b', label='Validation accuracy')\n",
    "    plt.title('Training and validation accuracy')\n",
    "\n",
    "    plt.figure()\n",
    "\n",
    "    plt.plot(epochs, loss, 'bo', label='Training Loss')\n",
    "    plt.plot(epochs, val_loss, 'b', label='Validation Loss')\n",
    "    plt.title('Training and validation loss')\n",
    "    plt.legend()\n",
    "\n",
    "    plt.show()\n",
    "    \n",
    "visualise_acc_loss(history)"
   ]
  },
  {
   "cell_type": "markdown",
   "metadata": {},
   "source": [
    "The Training Accuracy is close to 100%, and the validation accuracy is in the 70%-80% range. This is a great example of overfitting -- which in short means that it can do very well with images it has seen before, but not so well with images it hasn't. Let's see if we can do better to avoid overfitting -- and one simple method is to augment the images a bit. If you think about it, most pictures of a cat are very similar -- the ears are at the top, then the eyes, then the mouth etc. Things like the distance between the eyes and ears will always be quite similar too. \n",
    "\n",
    "What if we tweak with the images to change this up a bit -- rotate the image, squash it, etc.  That's what image augementation is all about. And there's an API that makes it easy...\n",
    "\n",
    "Now take a look at the ImageGenerator. There are properties on it that you can use to augment the image. \n",
    "\n",
    "```\n",
    "# Updated to do image augmentation\n",
    "train_datagen = ImageDataGenerator(\n",
    "      rotation_range=40,\n",
    "      width_shift_range=0.2,\n",
    "      height_shift_range=0.2,\n",
    "      shear_range=0.2,\n",
    "      zoom_range=0.2,\n",
    "      horizontal_flip=True,\n",
    "      fill_mode='nearest')\n",
    "```\n",
    "These are just a few of the options available (for more, see the Keras documentation. Let's quickly go over what we just wrote:\n",
    "\n",
    "* rotation_range is a value in degrees (0–180), a range within which to randomly rotate pictures.\n",
    "* width_shift and height_shift are ranges (as a fraction of total width or height) within which to randomly translate pictures vertically or horizontally.\n",
    "* shear_range is for randomly applying shearing transformations.\n",
    "* zoom_range is for randomly zooming inside pictures.\n",
    "* horizontal_flip is for randomly flipping half of the images horizontally. This is relevant when there are no assumptions of horizontal assymmetry (e.g. real-world pictures).\n",
    "* fill_mode is the strategy used for filling in newly created pixels, which can appear after a rotation or a width/height shift."
   ]
  },
  {
   "cell_type": "markdown",
   "metadata": {},
   "source": [
    "## Preprocessing with Augmentation"
   ]
  },
  {
   "cell_type": "code",
   "execution_count": 11,
   "metadata": {},
   "outputs": [
    {
     "name": "stdout",
     "output_type": "stream",
     "text": [
      "Found 2000 images belonging to 2 classes.\n",
      "Found 1000 images belonging to 2 classes.\n"
     ]
    }
   ],
   "source": [
    "# This code has changed. Now instead of the ImageGenerator just rescaling\n",
    "# the image, we also rotate and do other operations\n",
    "# Updated to do image augmentation\n",
    "train_datagen = ImageDataGenerator(\n",
    "      rescale=1./255,\n",
    "      rotation_range=40,\n",
    "      width_shift_range=0.2,\n",
    "      height_shift_range=0.2,\n",
    "      shear_range=0.2,\n",
    "      zoom_range=0.2,\n",
    "      horizontal_flip=True,\n",
    "      fill_mode='nearest')\n",
    "\n",
    "test_datagen = ImageDataGenerator(rescale=1./255)\n",
    "\n",
    "# Flow training images in batches of 20 using train_datagen generator\n",
    "train_generator = train_datagen.flow_from_directory(\n",
    "        train_dir,  # This is the source directory for training images\n",
    "        target_size=(150, 150),  # All images will be resized to 150x150\n",
    "        batch_size=20,\n",
    "        # Since we use binary_crossentropy loss, we need binary labels\n",
    "        class_mode='binary')\n",
    "\n",
    "# Flow validation images in batches of 20 using test_datagen generator\n",
    "validation_generator = test_datagen.flow_from_directory(\n",
    "        validation_dir,\n",
    "        target_size=(150, 150),\n",
    "        batch_size=20,\n",
    "        class_mode='binary')"
   ]
  },
  {
   "cell_type": "markdown",
   "metadata": {},
   "source": [
    "## Fitting"
   ]
  },
  {
   "cell_type": "code",
   "execution_count": 12,
   "metadata": {
    "scrolled": true
   },
   "outputs": [
    {
     "name": "stdout",
     "output_type": "stream",
     "text": [
      "Epoch 1/15\n",
      "Epoch 1/15\n",
      "100/100 - 100s - loss: 0.6623 - acc: 0.6740 - val_loss: 0.4965 - val_acc: 0.7580\n",
      "Epoch 2/15\n",
      "Epoch 1/15\n",
      "100/100 - 77s - loss: 0.5748 - acc: 0.6975 - val_loss: 0.5014 - val_acc: 0.7530\n",
      "Epoch 3/15\n",
      "Epoch 1/15\n",
      "100/100 - 78s - loss: 0.5696 - acc: 0.7145 - val_loss: 0.5254 - val_acc: 0.7260\n",
      "Epoch 4/15\n",
      "Epoch 1/15\n",
      "100/100 - 77s - loss: 0.5571 - acc: 0.7180 - val_loss: 0.4772 - val_acc: 0.7750\n",
      "Epoch 5/15\n",
      "Epoch 1/15\n",
      "100/100 - 78s - loss: 0.5490 - acc: 0.7060 - val_loss: 0.4940 - val_acc: 0.7620\n",
      "Epoch 6/15\n",
      "Epoch 1/15\n",
      "100/100 - 78s - loss: 0.5544 - acc: 0.7085 - val_loss: 0.5304 - val_acc: 0.7160\n",
      "Epoch 7/15\n",
      "Epoch 1/15\n",
      "100/100 - 78s - loss: 0.5359 - acc: 0.7400 - val_loss: 0.4713 - val_acc: 0.7720\n",
      "Epoch 8/15\n",
      "Epoch 1/15\n",
      "100/100 - 78s - loss: 0.5353 - acc: 0.7300 - val_loss: 0.5134 - val_acc: 0.7440\n",
      "Epoch 9/15\n",
      "Epoch 1/15\n",
      "100/100 - 78s - loss: 0.5281 - acc: 0.7440 - val_loss: 0.4608 - val_acc: 0.7860\n",
      "Epoch 10/15\n",
      "Epoch 1/15\n",
      "100/100 - 78s - loss: 0.5157 - acc: 0.7385 - val_loss: 0.5100 - val_acc: 0.7520\n",
      "Epoch 11/15\n",
      "Epoch 1/15\n",
      "100/100 - 78s - loss: 0.5110 - acc: 0.7550 - val_loss: 0.4729 - val_acc: 0.7670\n",
      "Epoch 12/15\n",
      "Epoch 1/15\n",
      "100/100 - 78s - loss: 0.5094 - acc: 0.7495 - val_loss: 0.4704 - val_acc: 0.7800\n",
      "Epoch 13/15\n",
      "Epoch 1/15\n",
      "100/100 - 78s - loss: 0.5068 - acc: 0.7395 - val_loss: 0.5021 - val_acc: 0.7420\n",
      "Epoch 14/15\n",
      "Epoch 1/15\n",
      "100/100 - 78s - loss: 0.5018 - acc: 0.7540 - val_loss: 0.5469 - val_acc: 0.7440\n",
      "Epoch 15/15\n",
      "Epoch 1/15\n",
      "100/100 - 78s - loss: 0.4891 - acc: 0.7685 - val_loss: 0.4444 - val_acc: 0.7810\n"
     ]
    }
   ],
   "source": [
    "history_aug = model.fit(\n",
    "      train_generator,\n",
    "      steps_per_epoch=100,  # 2000 images = batch_size * steps\n",
    "      epochs=15,\n",
    "      validation_data=validation_generator,\n",
    "      validation_steps=50,  # 1000 images = batch_size * steps\n",
    "      verbose=2)"
   ]
  },
  {
   "cell_type": "markdown",
   "metadata": {},
   "source": [
    "## Visualise Taining and Validation Accuracy and Loss"
   ]
  },
  {
   "cell_type": "code",
   "execution_count": 13,
   "metadata": {},
   "outputs": [
    {
     "data": {
      "image/png": "[encoded data removed]",
      "text/plain": [
       "<Figure size 432x288 with 1 Axes>"
      ]
     },
     "metadata": {
      "needs_background": "light"
     },
     "output_type": "display_data"
    },
    {
     "data": {
      "image/png": "[encoded data removed]",
      "text/plain": [
       "<Figure size 432x288 with 1 Axes>"
      ]
     },
     "metadata": {
      "needs_background": "light"
     },
     "output_type": "display_data"
    }
   ],
   "source": [
    "visualise_acc_loss(history_aug)"
   ]
  },
  {
   "cell_type": "markdown",
   "metadata": {},
   "source": [
    "## Variation of Preprocessing with Augmentation"
   ]
  },
  {
   "cell_type": "code",
   "execution_count": 14,
   "metadata": {},
   "outputs": [
    {
     "name": "stdout",
     "output_type": "stream",
     "text": [
      "Found 2000 images belonging to 2 classes.\n",
      "Found 1000 images belonging to 2 classes.\n"
     ]
    }
   ],
   "source": [
    "# This code has changed. Now instead of the ImageGenerator just rescaling\n",
    "# the image, we also rotate and do other operations\n",
    "# Updated to do image augmentation\n",
    "train_datagen = ImageDataGenerator(\n",
    "      rescale=1./255,\n",
    "      rotation_range=40,\n",
    "      width_shift_range=0.2,\n",
    "      height_shift_range=0.2,\n",
    "      shear_range=0.2,\n",
    "      zoom_range=0.2,\n",
    "      horizontal_flip=True,\n",
    "      fill_mode='nearest')\n",
    "\n",
    "test_datagen = ImageDataGenerator(rescale=1./255)\n",
    "\n",
    "# Flow training images in batches of 20 using train_datagen generator\n",
    "train_generator = train_datagen.flow_from_directory(\n",
    "        train_dir,  # This is the source directory for training images\n",
    "        target_size=(150, 150),  # All images will be resized to 150x150\n",
    "        batch_size=20,\n",
    "        # Since we use binary_crossentropy loss, we need binary labels\n",
    "        class_mode='binary')\n",
    "\n",
    "# Flow validation images in batches of 20 using test_datagen generator\n",
    "validation_generator = test_datagen.flow_from_directory(\n",
    "        validation_dir,\n",
    "        target_size=(150, 150),\n",
    "        batch_size=20,\n",
    "        class_mode='binary')"
   ]
  },
  {
   "cell_type": "markdown",
   "metadata": {},
   "source": [
    "## Fitting"
   ]
  },
  {
   "cell_type": "code",
   "execution_count": 15,
   "metadata": {
    "scrolled": true
   },
   "outputs": [
    {
     "name": "stdout",
     "output_type": "stream",
     "text": [
      "Epoch 1/15\n",
      "Epoch 1/15\n",
      "100/100 - 78s - loss: 0.5122 - acc: 0.7505 - val_loss: 0.4576 - val_acc: 0.7830\n",
      "Epoch 2/15\n",
      "Epoch 1/15\n",
      "100/100 - 76s - loss: 0.5097 - acc: 0.7435 - val_loss: 0.4593 - val_acc: 0.7780\n",
      "Epoch 3/15\n",
      "Epoch 1/15\n",
      "100/100 - 75s - loss: 0.4980 - acc: 0.7625 - val_loss: 0.4657 - val_acc: 0.7780\n",
      "Epoch 4/15\n",
      "Epoch 1/15\n",
      "100/100 - 76s - loss: 0.4947 - acc: 0.7560 - val_loss: 0.4534 - val_acc: 0.7940\n",
      "Epoch 5/15\n",
      "Epoch 1/15\n",
      "100/100 - 78s - loss: 0.4928 - acc: 0.7645 - val_loss: 0.4406 - val_acc: 0.8030\n",
      "Epoch 6/15\n",
      "Epoch 1/15\n",
      "100/100 - 77s - loss: 0.4798 - acc: 0.7790 - val_loss: 0.4410 - val_acc: 0.8050\n",
      "Epoch 7/15\n",
      "Epoch 1/15\n",
      "100/100 - 75s - loss: 0.4749 - acc: 0.7785 - val_loss: 0.6535 - val_acc: 0.7010\n",
      "Epoch 8/15\n",
      "Epoch 1/15\n",
      "100/100 - 75s - loss: 0.4883 - acc: 0.7675 - val_loss: 0.4413 - val_acc: 0.7960\n",
      "Epoch 9/15\n",
      "Epoch 1/15\n",
      "100/100 - 77s - loss: 0.4717 - acc: 0.7715 - val_loss: 0.4443 - val_acc: 0.7910\n",
      "Epoch 10/15\n",
      "Epoch 1/15\n",
      "100/100 - 77s - loss: 0.4673 - acc: 0.7800 - val_loss: 0.4525 - val_acc: 0.7810\n",
      "Epoch 11/15\n",
      "Epoch 1/15\n",
      "100/100 - 78s - loss: 0.4772 - acc: 0.7720 - val_loss: 0.4411 - val_acc: 0.7980\n",
      "Epoch 12/15\n",
      "Epoch 1/15\n",
      "100/100 - 77s - loss: 0.4747 - acc: 0.7670 - val_loss: 0.4713 - val_acc: 0.7670\n",
      "Epoch 13/15\n",
      "Epoch 1/15\n",
      "100/100 - 75s - loss: 0.4726 - acc: 0.7780 - val_loss: 0.4348 - val_acc: 0.7930\n",
      "Epoch 14/15\n",
      "Epoch 1/15\n",
      "100/100 - 77s - loss: 0.4635 - acc: 0.7585 - val_loss: 0.5070 - val_acc: 0.7470\n",
      "Epoch 15/15\n",
      "Epoch 1/15\n",
      "100/100 - 78s - loss: 0.4534 - acc: 0.7955 - val_loss: 0.4327 - val_acc: 0.8000\n"
     ]
    }
   ],
   "source": [
    "history_aug_new = model.fit(\n",
    "      train_generator,\n",
    "      steps_per_epoch=100,  # 2000 images = batch_size * steps\n",
    "      epochs=15,\n",
    "      validation_data=validation_generator,\n",
    "      validation_steps=50,  # 1000 images = batch_size * steps\n",
    "      verbose=2)"
   ]
  },
  {
   "cell_type": "markdown",
   "metadata": {},
   "source": [
    "## Visualise Taining and Validation Accuracy and Loss"
   ]
  },
  {
   "cell_type": "code",
   "execution_count": 16,
   "metadata": {},
   "outputs": [
    {
     "data": {
      "image/png": "[encoded data removed]",
      "text/plain": [
       "<Figure size 432x288 with 1 Axes>"
      ]
     },
     "metadata": {
      "needs_background": "light"
     },
     "output_type": "display_data"
    },
    {
     "data": {
      "image/png": "[encoded data removed]",
      "text/plain": [
       "<Figure size 432x288 with 1 Axes>"
      ]
     },
     "metadata": {
      "needs_background": "light"
     },
     "output_type": "display_data"
    }
   ],
   "source": [
    "visualise_acc_loss(history_aug_new)"
   ]
  }
 ],
 "metadata": {
  "kernelspec": {
   "display_name": "Python 3",
   "language": "python",
   "name": "python3"
  },
  "language_info": {
   "codemirror_mode": {
    "name": "ipython",
    "version": 3
   },
   "file_extension": ".py",
   "mimetype": "text/x-python",
   "name": "python",
   "nbconvert_exporter": "python",
   "pygments_lexer": "ipython3",
   "version": "3.6.5"
  }
 },
 "nbformat": 4,
 "nbformat_minor": 2
}
