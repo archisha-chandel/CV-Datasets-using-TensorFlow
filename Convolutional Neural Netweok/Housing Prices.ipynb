{
 "cells": [
  {
   "cell_type": "markdown",
   "metadata": {},
   "source": [
    "## Importing Libraries"
   ]
  },
  {
   "cell_type": "code",
   "execution_count": 1,
   "metadata": {},
   "outputs": [
    {
     "name": "stderr",
     "output_type": "stream",
     "text": [
      "Using TensorFlow backend.\n"
     ]
    }
   ],
   "source": [
    "import tensorflow as tf\n",
    "import pandas as pd\n",
    "import numpy as np\n",
    "from tensorflow import keras\n",
    "from keras import Sequential\n",
    "from keras.layers import Dense\n",
    "import matplotlib.pyplot as plt\n",
    "from sklearn.preprocessing import MinMaxScaler\n",
    "from sklearn.ensemble import IsolationForest\n",
    "from sklearn.model_selection import train_test_split"
   ]
  },
  {
   "cell_type": "markdown",
   "metadata": {},
   "source": [
    "## Reading Data and Preprocessing"
   ]
  },
  {
   "cell_type": "code",
   "execution_count": 2,
   "metadata": {},
   "outputs": [
    {
     "name": "stdout",
     "output_type": "stream",
     "text": [
      "(506, 14)\n"
     ]
    },
    {
     "data": {
      "text/html": [
       "<div>\n",
       "<style scoped>\n",
       "    .dataframe tbody tr th:only-of-type {\n",
       "        vertical-align: middle;\n",
       "    }\n",
       "\n",
       "    .dataframe tbody tr th {\n",
       "        vertical-align: top;\n",
       "    }\n",
       "\n",
       "    .dataframe thead th {\n",
       "        text-align: right;\n",
       "    }\n",
       "</style>\n",
       "<table border=\"1\" class=\"dataframe\">\n",
       "  <thead>\n",
       "    <tr style=\"text-align: right;\">\n",
       "      <th></th>\n",
       "      <th>CRIM</th>\n",
       "      <th>ZN</th>\n",
       "      <th>INDUS</th>\n",
       "      <th>CHAS</th>\n",
       "      <th>NOX</th>\n",
       "      <th>RM</th>\n",
       "      <th>AGE</th>\n",
       "      <th>DIS</th>\n",
       "      <th>RAD</th>\n",
       "      <th>TAX</th>\n",
       "      <th>PTRATIO</th>\n",
       "      <th>B</th>\n",
       "      <th>LSTAT</th>\n",
       "      <th>MEDV</th>\n",
       "    </tr>\n",
       "  </thead>\n",
       "  <tbody>\n",
       "    <tr>\n",
       "      <th>0</th>\n",
       "      <td>0.00632</td>\n",
       "      <td>18.0</td>\n",
       "      <td>2.31</td>\n",
       "      <td>0.0</td>\n",
       "      <td>0.538</td>\n",
       "      <td>6.575</td>\n",
       "      <td>65.2</td>\n",
       "      <td>4.0900</td>\n",
       "      <td>1</td>\n",
       "      <td>296</td>\n",
       "      <td>15.3</td>\n",
       "      <td>396.90</td>\n",
       "      <td>4.98</td>\n",
       "      <td>24.0</td>\n",
       "    </tr>\n",
       "    <tr>\n",
       "      <th>1</th>\n",
       "      <td>0.02731</td>\n",
       "      <td>0.0</td>\n",
       "      <td>7.07</td>\n",
       "      <td>0.0</td>\n",
       "      <td>0.469</td>\n",
       "      <td>6.421</td>\n",
       "      <td>78.9</td>\n",
       "      <td>4.9671</td>\n",
       "      <td>2</td>\n",
       "      <td>242</td>\n",
       "      <td>17.8</td>\n",
       "      <td>396.90</td>\n",
       "      <td>9.14</td>\n",
       "      <td>21.6</td>\n",
       "    </tr>\n",
       "    <tr>\n",
       "      <th>2</th>\n",
       "      <td>0.02729</td>\n",
       "      <td>0.0</td>\n",
       "      <td>7.07</td>\n",
       "      <td>0.0</td>\n",
       "      <td>0.469</td>\n",
       "      <td>7.185</td>\n",
       "      <td>61.1</td>\n",
       "      <td>4.9671</td>\n",
       "      <td>2</td>\n",
       "      <td>242</td>\n",
       "      <td>17.8</td>\n",
       "      <td>392.83</td>\n",
       "      <td>4.03</td>\n",
       "      <td>34.7</td>\n",
       "    </tr>\n",
       "    <tr>\n",
       "      <th>3</th>\n",
       "      <td>0.03237</td>\n",
       "      <td>0.0</td>\n",
       "      <td>2.18</td>\n",
       "      <td>0.0</td>\n",
       "      <td>0.458</td>\n",
       "      <td>6.998</td>\n",
       "      <td>45.8</td>\n",
       "      <td>6.0622</td>\n",
       "      <td>3</td>\n",
       "      <td>222</td>\n",
       "      <td>18.7</td>\n",
       "      <td>394.63</td>\n",
       "      <td>2.94</td>\n",
       "      <td>33.4</td>\n",
       "    </tr>\n",
       "    <tr>\n",
       "      <th>4</th>\n",
       "      <td>0.06905</td>\n",
       "      <td>0.0</td>\n",
       "      <td>2.18</td>\n",
       "      <td>0.0</td>\n",
       "      <td>0.458</td>\n",
       "      <td>7.147</td>\n",
       "      <td>54.2</td>\n",
       "      <td>6.0622</td>\n",
       "      <td>3</td>\n",
       "      <td>222</td>\n",
       "      <td>18.7</td>\n",
       "      <td>396.90</td>\n",
       "      <td>NaN</td>\n",
       "      <td>36.2</td>\n",
       "    </tr>\n",
       "  </tbody>\n",
       "</table>\n",
       "</div>"
      ],
      "text/plain": [
       "      CRIM    ZN  INDUS  CHAS    NOX     RM   AGE     DIS  RAD  TAX  PTRATIO  \\\n",
       "0  0.00632  18.0   2.31   0.0  0.538  6.575  65.2  4.0900    1  296     15.3   \n",
       "1  0.02731   0.0   7.07   0.0  0.469  6.421  78.9  4.9671    2  242     17.8   \n",
       "2  0.02729   0.0   7.07   0.0  0.469  7.185  61.1  4.9671    2  242     17.8   \n",
       "3  0.03237   0.0   2.18   0.0  0.458  6.998  45.8  6.0622    3  222     18.7   \n",
       "4  0.06905   0.0   2.18   0.0  0.458  7.147  54.2  6.0622    3  222     18.7   \n",
       "\n",
       "        B  LSTAT  MEDV  \n",
       "0  396.90   4.98  24.0  \n",
       "1  396.90   9.14  21.6  \n",
       "2  392.83   4.03  34.7  \n",
       "3  394.63   2.94  33.4  \n",
       "4  396.90    NaN  36.2  "
      ]
     },
     "execution_count": 2,
     "metadata": {},
     "output_type": "execute_result"
    }
   ],
   "source": [
    "# Reading train data\n",
    "train=pd.read_csv('../data/HousingData.csv',encoding='utf-8')\n",
    "print(train.shape)\n",
    "train.head()"
   ]
  },
  {
   "cell_type": "code",
   "execution_count": 3,
   "metadata": {},
   "outputs": [],
   "source": [
    "train.dropna(inplace=True)"
   ]
  },
  {
   "cell_type": "markdown",
   "metadata": {},
   "source": [
    "## Scaling Numerical Data"
   ]
  },
  {
   "cell_type": "code",
   "execution_count": 4,
   "metadata": {},
   "outputs": [
    {
     "name": "stdout",
     "output_type": "stream",
     "text": [
      "Note: median values were scaled by multiplying by 0.0222222222 and adding -0.111111\n"
     ]
    }
   ],
   "source": [
    "target = 'MEDV'\n",
    "\n",
    "scaler = MinMaxScaler(feature_range=(0, 1))\n",
    "scaled_train = scaler.fit_transform(train)\n",
    "\n",
    "# Print out the adjustment that the scaler applied to the total_earnings column of data\n",
    "print(\"Note: median values were scaled by multiplying by {:.10f} and adding {:.6f}\".format(scaler.scale_[13], scaler.min_[13]))\n",
    "multiplied_by = scaler.scale_[13]\n",
    "added = scaler.min_[13]\n",
    "\n",
    "scaled_train_df = pd.DataFrame(scaled_train, columns=train.columns.values)"
   ]
  },
  {
   "cell_type": "markdown",
   "metadata": {},
   "source": [
    "## Building Model"
   ]
  },
  {
   "cell_type": "code",
   "execution_count": 5,
   "metadata": {},
   "outputs": [
    {
     "name": "stdout",
     "output_type": "stream",
     "text": [
      "WARNING:tensorflow:From C:\\Users\\Parivi\\AppData\\Roaming\\Python\\Python36\\site-packages\\tensorflow_core\\python\\ops\\resource_variable_ops.py:1630: calling BaseResourceVariable.__init__ (from tensorflow.python.ops.resource_variable_ops) with constraint is deprecated and will be removed in a future version.\n",
      "Instructions for updating:\n",
      "If using Keras pass *_constraint arguments to layers.\n"
     ]
    }
   ],
   "source": [
    "#build our model\n",
    "model = Sequential()\n",
    "\n",
    "model.add(Dense(50, activation='relu'))\n",
    "model.add(Dense(100, activation='relu'))\n",
    "model.add(Dense(50, activation='relu'))\n",
    "model.add(Dense(1))\n",
    "\n",
    "model.compile(loss='mean_squared_error', optimizer='adam')"
   ]
  },
  {
   "cell_type": "markdown",
   "metadata": {},
   "source": [
    "## Training"
   ]
  },
  {
   "cell_type": "code",
   "execution_count": 6,
   "metadata": {
    "scrolled": true
   },
   "outputs": [
    {
     "name": "stdout",
     "output_type": "stream",
     "text": [
      "WARNING:tensorflow:From c:\\users\\parivi\\appdata\\local\\programs\\python\\python36\\lib\\site-packages\\keras\\backend\\tensorflow_backend.py:422: The name tf.global_variables is deprecated. Please use tf.compat.v1.global_variables instead.\n",
      "\n",
      "Epoch 1/50\n",
      " - 0s - loss: 236.1487\n",
      "Epoch 2/50\n",
      " - 0s - loss: 84.4647\n",
      "Epoch 3/50\n",
      " - 0s - loss: 67.5611\n",
      "Epoch 4/50\n",
      " - 0s - loss: 61.5129\n",
      "Epoch 5/50\n",
      " - 0s - loss: 59.8189\n",
      "Epoch 6/50\n",
      " - 0s - loss: 59.9558\n",
      "Epoch 7/50\n",
      " - 0s - loss: 57.6047\n",
      "Epoch 8/50\n",
      " - 0s - loss: 56.3524\n",
      "Epoch 9/50\n",
      " - 0s - loss: 56.3849\n",
      "Epoch 10/50\n",
      " - 0s - loss: 57.7746\n",
      "Epoch 11/50\n",
      " - 0s - loss: 60.4795\n",
      "Epoch 12/50\n",
      " - 0s - loss: 59.9311\n",
      "Epoch 13/50\n",
      " - 0s - loss: 59.4711\n",
      "Epoch 14/50\n",
      " - 0s - loss: 61.9898\n",
      "Epoch 15/50\n",
      " - 0s - loss: 58.4718\n",
      "Epoch 16/50\n",
      " - 0s - loss: 52.7755\n",
      "Epoch 17/50\n",
      " - 0s - loss: 54.1253\n",
      "Epoch 18/50\n",
      " - 0s - loss: 57.2683\n",
      "Epoch 19/50\n",
      " - 0s - loss: 57.9210\n",
      "Epoch 20/50\n",
      " - 0s - loss: 53.8677\n",
      "Epoch 21/50\n",
      " - 0s - loss: 50.8969\n",
      "Epoch 22/50\n",
      " - 0s - loss: 48.2611\n",
      "Epoch 23/50\n",
      " - 0s - loss: 49.1092\n",
      "Epoch 24/50\n",
      " - 0s - loss: 48.1823\n",
      "Epoch 25/50\n",
      " - 0s - loss: 50.3134\n",
      "Epoch 26/50\n",
      " - 0s - loss: 51.7908\n",
      "Epoch 27/50\n",
      " - 0s - loss: 46.2087\n",
      "Epoch 28/50\n",
      " - 0s - loss: 43.1623\n",
      "Epoch 29/50\n",
      " - 0s - loss: 42.1208\n",
      "Epoch 30/50\n",
      " - 0s - loss: 40.5279\n",
      "Epoch 31/50\n",
      " - 0s - loss: 39.0005\n",
      "Epoch 32/50\n",
      " - 0s - loss: 39.5835\n",
      "Epoch 33/50\n",
      " - 0s - loss: 37.0553\n",
      "Epoch 34/50\n",
      " - 0s - loss: 35.4308\n",
      "Epoch 35/50\n",
      " - 0s - loss: 36.9051\n",
      "Epoch 36/50\n",
      " - 0s - loss: 33.3042\n",
      "Epoch 37/50\n",
      " - 0s - loss: 40.8748\n",
      "Epoch 38/50\n",
      " - 0s - loss: 37.9872\n",
      "Epoch 39/50\n",
      " - 0s - loss: 33.3960\n",
      "Epoch 40/50\n",
      " - 0s - loss: 32.0293\n",
      "Epoch 41/50\n",
      " - 0s - loss: 31.8695\n",
      "Epoch 42/50\n",
      " - 0s - loss: 30.0421\n",
      "Epoch 43/50\n",
      " - 0s - loss: 32.8103\n",
      "Epoch 44/50\n",
      " - 0s - loss: 31.2071\n",
      "Epoch 45/50\n",
      " - 0s - loss: 29.7900\n",
      "Epoch 46/50\n",
      " - 0s - loss: 29.3043\n",
      "Epoch 47/50\n",
      " - 0s - loss: 28.6600\n",
      "Epoch 48/50\n",
      " - 0s - loss: 28.6513\n",
      "Epoch 49/50\n",
      " - 0s - loss: 27.0683\n",
      "Epoch 50/50\n",
      " - 0s - loss: 27.7630\n"
     ]
    },
    {
     "data": {
      "text/plain": [
       "<keras.callbacks.callbacks.History at 0x1dd869814e0>"
      ]
     },
     "execution_count": 6,
     "metadata": {},
     "output_type": "execute_result"
    }
   ],
   "source": [
    "X = train.drop(target, axis=1).values\n",
    "Y = train[[target]].values\n",
    "\n",
    "# Train the model\n",
    "model.fit(\n",
    "    X[10:],\n",
    "    Y[10:],\n",
    "    epochs=50,\n",
    "    shuffle=True,\n",
    "    verbose=2\n",
    ")"
   ]
  },
  {
   "cell_type": "markdown",
   "metadata": {},
   "source": [
    "## Prediction"
   ]
  },
  {
   "cell_type": "code",
   "execution_count": 7,
   "metadata": {},
   "outputs": [
    {
     "name": "stdout",
     "output_type": "stream",
     "text": [
      "Prediction with scaling - 30.38384437561035\n",
      "Housing Price Prediction  - $1372.2729969024658\n"
     ]
    }
   ],
   "source": [
    "#inference\n",
    "prediction = model.predict(X[:1])\n",
    "y_0 = prediction[0][0]\n",
    "print('Prediction with scaling - {}'.format(y_0))\n",
    "y_0 -= added\n",
    "y_0 /= multiplied_by\n",
    "print(\"Housing Price Prediction  - ${}\".format(y_0))"
   ]
  }
 ],
 "metadata": {
  "kernelspec": {
   "display_name": "Python 3",
   "language": "python",
   "name": "python3"
  },
  "language_info": {
   "codemirror_mode": {
    "name": "ipython",
    "version": 3
   },
   "file_extension": ".py",
   "mimetype": "text/x-python",
   "name": "python",
   "nbconvert_exporter": "python",
   "pygments_lexer": "ipython3",
   "version": "3.6.5"
  }
 },
 "nbformat": 4,
 "nbformat_minor": 2
}
