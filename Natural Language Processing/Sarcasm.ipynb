{
 "cells": [
  {
   "cell_type": "markdown",
   "metadata": {},
   "source": [
    "## Importing Libraries"
   ]
  },
  {
   "cell_type": "code",
   "execution_count": 1,
   "metadata": {},
   "outputs": [
    {
     "name": "stdout",
     "output_type": "stream",
     "text": [
      "2.2.0\n"
     ]
    }
   ],
   "source": [
    "import io\n",
    "import os\n",
    "import wget\n",
    "import json\n",
    "import zipfile\n",
    "\n",
    "import numpy as np\n",
    "import tensorflow as tf\n",
    "import matplotlib.pyplot as plt\n",
    "import tensorflow_datasets as tfds\n",
    "\n",
    "from tensorflow.keras.preprocessing.text import Tokenizer\n",
    "from tensorflow.keras.preprocessing.sequence import pad_sequences\n",
    "\n",
    "print(tf.__version__)\n",
    "# Make sure you are running this in Python3 environment and TFv2.x"
   ]
  },
  {
   "cell_type": "markdown",
   "metadata": {},
   "source": [
    "## Downloading Dataset"
   ]
  },
  {
   "cell_type": "code",
   "execution_count": 3,
   "metadata": {},
   "outputs": [
    {
     "name": "stdout",
     "output_type": "stream",
     "text": [
      "100% [..........................................................................] 5643545 / 5643545"
     ]
    }
   ],
   "source": [
    "path = os.getcwd()+\"\\..\\data\\sarcasm.json\"\n",
    "url = \"https://storage.googleapis.com/laurencemoroney-blog.appspot.com/sarcasm.json\"\n",
    "train = wget.download(url, out = path)"
   ]
  },
  {
   "cell_type": "markdown",
   "metadata": {},
   "source": [
    "## Defining Hyper-Parameters"
   ]
  },
  {
   "cell_type": "code",
   "execution_count": 2,
   "metadata": {},
   "outputs": [],
   "source": [
    "vocab_size = 10000\n",
    "embedding_dim = 16\n",
    "max_length = 32\n",
    "trunc_type='post'\n",
    "padding_type='post'\n",
    "oov_tok = \"<OOV>\"\n",
    "training_size = 20000"
   ]
  },
  {
   "cell_type": "markdown",
   "metadata": {},
   "source": [
    "## Separating Sentences and Labels"
   ]
  },
  {
   "cell_type": "code",
   "execution_count": 4,
   "metadata": {},
   "outputs": [],
   "source": [
    "with open(\"../data/sarcasm.json\", 'r') as f:\n",
    "    datastore = json.load(f)\n",
    "\n",
    "sentences = []\n",
    "labels = []\n",
    "\n",
    "for item in datastore:\n",
    "    sentences.append(item['headline'])\n",
    "    labels.append(item['is_sarcastic'])"
   ]
  },
  {
   "cell_type": "markdown",
   "metadata": {},
   "source": [
    "## Splitting (train-test)"
   ]
  },
  {
   "cell_type": "code",
   "execution_count": 5,
   "metadata": {},
   "outputs": [],
   "source": [
    "training_sentences = np.array(sentences[0:training_size])\n",
    "testing_sentences = np.array(sentences[training_size:])\n",
    "\n",
    "training_labels = np.array(labels[0:training_size])\n",
    "testing_labels = np.array(labels[training_size:])"
   ]
  },
  {
   "cell_type": "markdown",
   "metadata": {},
   "source": [
    "## Tokenizing and Padding"
   ]
  },
  {
   "cell_type": "code",
   "execution_count": 6,
   "metadata": {},
   "outputs": [],
   "source": [
    "tokenizer = Tokenizer(num_words=vocab_size, oov_token=oov_tok)\n",
    "tokenizer.fit_on_texts(training_sentences)\n",
    "\n",
    "word_index = tokenizer.word_index\n",
    "\n",
    "# tokenizing and padding train data\n",
    "training_sequences = tokenizer.texts_to_sequences(training_sentences)\n",
    "training_padded = pad_sequences(training_sequences, maxlen=max_length, padding=padding_type, truncating=trunc_type)\n",
    "\n",
    "# tokenizing and padding test data\n",
    "testing_sequences = tokenizer.texts_to_sequences(testing_sentences)\n",
    "testing_padded = pad_sequences(testing_sequences, maxlen=max_length, padding=padding_type, truncating=trunc_type)"
   ]
  },
  {
   "cell_type": "markdown",
   "metadata": {},
   "source": [
    "## Building a Model"
   ]
  },
  {
   "cell_type": "code",
   "execution_count": 7,
   "metadata": {},
   "outputs": [
    {
     "name": "stdout",
     "output_type": "stream",
     "text": [
      "Model: \"sequential\"\n",
      "_________________________________________________________________\n",
      "Layer (type)                 Output Shape              Param #   \n",
      "=================================================================\n",
      "embedding (Embedding)        (None, 32, 16)            160000    \n",
      "_________________________________________________________________\n",
      "global_average_pooling1d (Gl (None, 16)                0         \n",
      "_________________________________________________________________\n",
      "dense (Dense)                (None, 24)                408       \n",
      "_________________________________________________________________\n",
      "dense_1 (Dense)              (None, 1)                 25        \n",
      "=================================================================\n",
      "Total params: 160,433\n",
      "Trainable params: 160,433\n",
      "Non-trainable params: 0\n",
      "_________________________________________________________________\n"
     ]
    }
   ],
   "source": [
    "model = tf.keras.Sequential([\n",
    "    tf.keras.layers.Embedding(vocab_size, embedding_dim, input_length=max_length),\n",
    "    tf.keras.layers.GlobalAveragePooling1D(), # Note the difference between GAP1D() and Flatten() \n",
    "    tf.keras.layers.Dense(24, activation='relu'),\n",
    "    tf.keras.layers.Dense(1, activation='sigmoid')\n",
    "])\n",
    "\n",
    "model.compile(loss='binary_crossentropy',optimizer='adam',metrics=['accuracy'])\n",
    "\n",
    "model.summary()"
   ]
  },
  {
   "cell_type": "markdown",
   "metadata": {},
   "source": [
    "## Fitting"
   ]
  },
  {
   "cell_type": "code",
   "execution_count": 8,
   "metadata": {
    "scrolled": true
   },
   "outputs": [
    {
     "name": "stdout",
     "output_type": "stream",
     "text": [
      "Epoch 1/30\n",
      "625/625 - 4s - loss: 0.5570 - accuracy: 0.7078 - val_loss: 0.3922 - val_accuracy: 0.8371\n",
      "Epoch 2/30\n",
      "625/625 - 3s - loss: 0.3085 - accuracy: 0.8759 - val_loss: 0.3451 - val_accuracy: 0.8504\n",
      "Epoch 3/30\n",
      "625/625 - 4s - loss: 0.2305 - accuracy: 0.9090 - val_loss: 0.3542 - val_accuracy: 0.8457\n",
      "Epoch 4/30\n",
      "625/625 - 4s - loss: 0.1862 - accuracy: 0.9280 - val_loss: 0.3637 - val_accuracy: 0.8509\n",
      "Epoch 5/30\n",
      "625/625 - 4s - loss: 0.1553 - accuracy: 0.9428 - val_loss: 0.3915 - val_accuracy: 0.8504\n",
      "Epoch 6/30\n",
      "625/625 - 3s - loss: 0.1307 - accuracy: 0.9531 - val_loss: 0.4299 - val_accuracy: 0.8427\n",
      "Epoch 7/30\n",
      "625/625 - 4s - loss: 0.1120 - accuracy: 0.9614 - val_loss: 0.4613 - val_accuracy: 0.8430\n",
      "Epoch 8/30\n",
      "625/625 - 3s - loss: 0.0952 - accuracy: 0.9690 - val_loss: 0.5053 - val_accuracy: 0.8369\n",
      "Epoch 9/30\n",
      "625/625 - 4s - loss: 0.0831 - accuracy: 0.9722 - val_loss: 0.5491 - val_accuracy: 0.8343\n",
      "Epoch 10/30\n",
      "625/625 - 4s - loss: 0.0723 - accuracy: 0.9765 - val_loss: 0.6003 - val_accuracy: 0.8316\n",
      "Epoch 11/30\n",
      "625/625 - 4s - loss: 0.0615 - accuracy: 0.9816 - val_loss: 0.6611 - val_accuracy: 0.8250\n",
      "Epoch 12/30\n",
      "625/625 - 4s - loss: 0.0539 - accuracy: 0.9837 - val_loss: 0.7150 - val_accuracy: 0.8232\n",
      "Epoch 13/30\n",
      "625/625 - 4s - loss: 0.0474 - accuracy: 0.9859 - val_loss: 0.7590 - val_accuracy: 0.8211\n",
      "Epoch 14/30\n",
      "625/625 - 4s - loss: 0.0422 - accuracy: 0.9881 - val_loss: 0.8165 - val_accuracy: 0.8196\n",
      "Epoch 15/30\n",
      "625/625 - 4s - loss: 0.0367 - accuracy: 0.9886 - val_loss: 0.8845 - val_accuracy: 0.8146\n",
      "Epoch 16/30\n",
      "625/625 - 4s - loss: 0.0312 - accuracy: 0.9912 - val_loss: 0.9305 - val_accuracy: 0.8155\n",
      "Epoch 17/30\n",
      "625/625 - 3s - loss: 0.0287 - accuracy: 0.9912 - val_loss: 0.9908 - val_accuracy: 0.8131\n",
      "Epoch 18/30\n",
      "625/625 - 2s - loss: 0.0254 - accuracy: 0.9930 - val_loss: 1.0724 - val_accuracy: 0.8109\n",
      "Epoch 19/30\n",
      "625/625 - 2s - loss: 0.0220 - accuracy: 0.9936 - val_loss: 1.1160 - val_accuracy: 0.8103\n",
      "Epoch 20/30\n",
      "625/625 - 2s - loss: 0.0205 - accuracy: 0.9940 - val_loss: 1.1848 - val_accuracy: 0.8116\n",
      "Epoch 21/30\n",
      "625/625 - 2s - loss: 0.0179 - accuracy: 0.9952 - val_loss: 1.2392 - val_accuracy: 0.8094\n",
      "Epoch 22/30\n",
      "625/625 - 2s - loss: 0.0155 - accuracy: 0.9959 - val_loss: 1.3173 - val_accuracy: 0.8053\n",
      "Epoch 23/30\n",
      "625/625 - 2s - loss: 0.0143 - accuracy: 0.9963 - val_loss: 1.3688 - val_accuracy: 0.8095\n",
      "Epoch 24/30\n",
      "625/625 - 4s - loss: 0.0120 - accuracy: 0.9969 - val_loss: 1.4451 - val_accuracy: 0.8053\n",
      "Epoch 25/30\n",
      "625/625 - 3s - loss: 0.0122 - accuracy: 0.9964 - val_loss: 1.5009 - val_accuracy: 0.8059\n",
      "Epoch 26/30\n",
      "625/625 - 4s - loss: 0.0116 - accuracy: 0.9967 - val_loss: 1.5457 - val_accuracy: 0.8038\n",
      "Epoch 27/30\n",
      "625/625 - 4s - loss: 0.0105 - accuracy: 0.9970 - val_loss: 1.6496 - val_accuracy: 0.8025\n",
      "Epoch 28/30\n",
      "625/625 - 4s - loss: 0.0091 - accuracy: 0.9975 - val_loss: 1.6745 - val_accuracy: 0.8055\n",
      "Epoch 29/30\n",
      "625/625 - 3s - loss: 0.0079 - accuracy: 0.9979 - val_loss: 1.7433 - val_accuracy: 0.8046\n",
      "Epoch 30/30\n",
      "625/625 - 4s - loss: 0.0072 - accuracy: 0.9977 - val_loss: 1.8445 - val_accuracy: 0.8016\n"
     ]
    }
   ],
   "source": [
    "num_epochs = 30\n",
    "history = model.fit(\n",
    "    training_padded, \n",
    "    training_labels,\n",
    "    epochs=num_epochs, \n",
    "    verbose=2,\n",
    "    validation_data=(\n",
    "        testing_padded, \n",
    "        testing_labels\n",
    "    )\n",
    ")"
   ]
  },
  {
   "cell_type": "markdown",
   "metadata": {},
   "source": [
    "## Visualising Accuracy and Loss"
   ]
  },
  {
   "cell_type": "code",
   "execution_count": 9,
   "metadata": {},
   "outputs": [
    {
     "data": {
      "image/png": "[encoded data removed]",
      "text/plain": [
       "<Figure size 432x288 with 1 Axes>"
      ]
     },
     "metadata": {
      "needs_background": "light"
     },
     "output_type": "display_data"
    },
    {
     "data": {
      "image/png": "[encoded data removed]",
      "text/plain": [
       "<Figure size 432x288 with 1 Axes>"
      ]
     },
     "metadata": {
      "needs_background": "light"
     },
     "output_type": "display_data"
    }
   ],
   "source": [
    "def plot_graphs(history, string):\n",
    "    plt.plot(history.history[string])\n",
    "    plt.plot(history.history['val_'+string])\n",
    "    plt.xlabel(\"Epochs\")\n",
    "    plt.ylabel(string)\n",
    "    plt.legend([string, 'val_'+string])\n",
    "    plt.show()\n",
    "\n",
    "plot_graphs(history, \"accuracy\")\n",
    "plot_graphs(history, \"loss\")"
   ]
  },
  {
   "cell_type": "markdown",
   "metadata": {},
   "source": [
    "## De-Tokenizing"
   ]
  },
  {
   "cell_type": "code",
   "execution_count": 10,
   "metadata": {},
   "outputs": [
    {
     "name": "stdout",
     "output_type": "stream",
     "text": [
      "----De-Tokenized Sentence----\n",
      "former <OOV> store clerk sues over secret 'black <OOV> for minority shoppers ? ? ? ? ? ? ? ? ? ? ? ? ? ? ? ? ? ? ? ? \n",
      "\n",
      "----Training Sentence----\n",
      "mom starting to fear son's web series closest thing she will have to grandchild \n",
      "\n",
      "----Labels----\n",
      "1\n"
     ]
    }
   ],
   "source": [
    "reverse_word_index = dict([(value, key) for (key, value) in word_index.items()])\n",
    "\n",
    "def decode_sentence(text):\n",
    "    return ' '.join([reverse_word_index.get(i, '?') for i in text])\n",
    "\n",
    "print('----De-Tokenized Sentence----')\n",
    "print(decode_sentence(training_padded[0]),'\\n')\n",
    "print('----Training Sentence----')\n",
    "print(training_sentences[2],'\\n')\n",
    "print('----Labels----')\n",
    "print(labels[2])"
   ]
  },
  {
   "cell_type": "markdown",
   "metadata": {},
   "source": [
    "## Checking Volcabulary Size and Embedding Dimensions"
   ]
  },
  {
   "cell_type": "code",
   "execution_count": 11,
   "metadata": {},
   "outputs": [
    {
     "name": "stdout",
     "output_type": "stream",
     "text": [
      "vocab_size, embedding_dim: \n",
      "(10000, 16)\n"
     ]
    }
   ],
   "source": [
    "e = model.layers[0]\n",
    "weights = e.get_weights()[0]\n",
    "print('vocab_size, embedding_dim: ')\n",
    "print(weights.shape)"
   ]
  },
  {
   "cell_type": "markdown",
   "metadata": {},
   "source": [
    "## Visualising the Vectors and Metadata"
   ]
  },
  {
   "cell_type": "code",
   "execution_count": 12,
   "metadata": {},
   "outputs": [],
   "source": [
    "out_v = io.open('vecs.tsv', 'w', encoding='utf-8')\n",
    "out_m = io.open('meta.tsv', 'w', encoding='utf-8')\n",
    "for word_num in range(1, vocab_size):\n",
    "    word = reverse_word_index[word_num]\n",
    "    embeddings = weights[word_num]\n",
    "    out_m.write(word + \"\\n\")\n",
    "    out_v.write('\\t'.join([str(x) for x in embeddings]) + \"\\n\")\n",
    "out_v.close()\n",
    "out_m.close()\n",
    "\n",
    "# Downloading vectors and metadata files\n",
    "try:\n",
    "    from google.colab import files\n",
    "except ImportError:\n",
    "    pass\n",
    "else:\n",
    "    files.download('vecs.tsv')\n",
    "    files.download('meta.tsv')\n",
    "\n",
    "# These files can be visulaised at: http://projector.tensorflow.org/"
   ]
  },
  {
   "cell_type": "markdown",
   "metadata": {},
   "source": [
    "<img src=\"../data/images/IMDB/sarcasm.PNG\">"
   ]
  },
  {
   "cell_type": "markdown",
   "metadata": {},
   "source": [
    "## Testing"
   ]
  },
  {
   "cell_type": "code",
   "execution_count": 13,
   "metadata": {},
   "outputs": [
    {
     "name": "stdout",
     "output_type": "stream",
     "text": [
      "[[9.9956506e-01]\n",
      " [2.6584173e-09]]\n"
     ]
    }
   ],
   "source": [
    "sentence = [\n",
    "    \"granny starting to fear spiders in the garden might be real\", \n",
    "    \"game of thrones season finale showing this sunday night\"\n",
    "]\n",
    "sequences = tokenizer.texts_to_sequences(sentence)\n",
    "padded = pad_sequences(\n",
    "    sequences, \n",
    "    maxlen=max_length,\n",
    "    padding=padding_type, \n",
    "    truncating=trunc_type\n",
    ")\n",
    "print(model.predict(padded))"
   ]
  }
 ],
 "metadata": {
  "kernelspec": {
   "display_name": "Python 3",
   "language": "python",
   "name": "python3"
  },
  "language_info": {
   "codemirror_mode": {
    "name": "ipython",
    "version": 3
   },
   "file_extension": ".py",
   "mimetype": "text/x-python",
   "name": "python",
   "nbconvert_exporter": "python",
   "pygments_lexer": "ipython3",
   "version": "3.6.5"
  }
 },
 "nbformat": 4,
 "nbformat_minor": 2
}
