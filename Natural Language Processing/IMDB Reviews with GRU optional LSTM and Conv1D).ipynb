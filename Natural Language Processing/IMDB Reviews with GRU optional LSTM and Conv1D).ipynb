{
 "cells": [
  {
   "cell_type": "markdown",
   "metadata": {},
   "source": [
    "## Importing Libraries"
   ]
  },
  {
   "cell_type": "code",
   "execution_count": 1,
   "metadata": {},
   "outputs": [
    {
     "name": "stdout",
     "output_type": "stream",
     "text": [
      "2.2.0\n"
     ]
    }
   ],
   "source": [
    "import io\n",
    "\n",
    "import numpy as np\n",
    "import tensorflow as tf\n",
    "import matplotlib.pyplot as plt\n",
    "import tensorflow_datasets as tfds\n",
    "\n",
    "from tensorflow.keras.preprocessing.text import Tokenizer\n",
    "from tensorflow.keras.preprocessing.sequence import pad_sequences\n",
    "\n",
    "print(tf.__version__)\n",
    "# Make sure you are running this in Python3 environment and TFv2.x"
   ]
  },
  {
   "cell_type": "markdown",
   "metadata": {},
   "source": [
    "## Loading Data"
   ]
  },
  {
   "cell_type": "code",
   "execution_count": 2,
   "metadata": {},
   "outputs": [],
   "source": [
    "imdb, info = tfds.load(\n",
    "    \"imdb_reviews\", \n",
    "    with_info=True, \n",
    "    as_supervised=True\n",
    ")\n",
    "                       \n",
    "train_data, test_data = imdb['train'], imdb['test']\n",
    "\n",
    "training_sentences = []\n",
    "training_labels = []\n",
    "\n",
    "testing_sentences = []\n",
    "testing_labels = []\n",
    "\n",
    "for s,l in train_data:\n",
    "    training_sentences.append(str(s.numpy()))\n",
    "    training_labels.append(l.numpy())\n",
    "\n",
    "for s,l in test_data:\n",
    "    testing_sentences.append(str(s.numpy()))\n",
    "    testing_labels.append(l.numpy())\n",
    "\n",
    "training_labels_final = np.array(training_labels)\n",
    "testing_labels_final = np.array(testing_labels)                       "
   ]
  },
  {
   "cell_type": "markdown",
   "metadata": {},
   "source": [
    "## Tokenizing and Embbedding"
   ]
  },
  {
   "cell_type": "code",
   "execution_count": 3,
   "metadata": {},
   "outputs": [],
   "source": [
    "vocab_size = 10000\n",
    "embedding_dim = 16\n",
    "max_length = 120\n",
    "trunc_type='post'\n",
    "oov_tok = \"<OOV>\"\n",
    "\n",
    "tokenizer = Tokenizer(num_words = vocab_size, oov_token=oov_tok)\n",
    "tokenizer.fit_on_texts(training_sentences)\n",
    "word_index = tokenizer.word_index\n",
    "sequences = tokenizer.texts_to_sequences(training_sentences)\n",
    "padded = pad_sequences(sequences,maxlen=max_length, truncating=trunc_type)\n",
    "\n",
    "testing_sequences = tokenizer.texts_to_sequences(testing_sentences)\n",
    "testing_padded = pad_sequences(testing_sequences,maxlen=max_length)"
   ]
  },
  {
   "cell_type": "markdown",
   "metadata": {},
   "source": [
    "## De-Tokenizing"
   ]
  },
  {
   "cell_type": "code",
   "execution_count": 4,
   "metadata": {},
   "outputs": [
    {
     "name": "stdout",
     "output_type": "stream",
     "text": [
      "----De-Tokenized----\n",
      "b perhaps because i was so young innocent and <OOV> when i saw it this movie was the cause of many <OOV> nights for me i haven't seen it since i was in seventh grade at a <OOV> school so i am not sure what effect it would have on me now however i will say that it left an impression on me and most of my friends it did serve its purpose at least until we were old enough and <OOV> enough to analyze and create our own opinions i was particularly terrified of what the newly converted post rapture christians had to endure when not receiving the mark of the beast i don't want to spoil the movie \n",
      "\n",
      "----De-Tokenized----\n",
      "b\"Perhaps because I was so young, innocent and BRAINWASHED when I saw it, this movie was the cause of many sleepless nights for me. I haven't seen it since I was in seventh grade at a Presbyterian school, so I am not sure what effect it would have on me now. However, I will say that it left an impression on me... and most of my friends. It did serve its purpose, at least until we were old enough and knowledgeable enough to analyze and create our own opinions. I was particularly terrified of what the newly-converted post-rapture Christians had to endure when not receiving the mark of the beast. I don't want to spoil the movie for those who haven't seen it so I will not mention details of the scenes, but I can still picture them in my head... and it's been 19 years.\"\n"
     ]
    }
   ],
   "source": [
    "reverse_word_index = dict([(value, key) for (key, value) in word_index.items()])\n",
    "\n",
    "def decode_review(text):\n",
    "    return ' '.join([reverse_word_index.get(i, '?') for i in text])\n",
    "\n",
    "print('----De-Tokenized----')\n",
    "print(decode_review(padded[1]), '\\n')\n",
    "print('----De-Tokenized----')\n",
    "print(training_sentences[1])"
   ]
  },
  {
   "cell_type": "markdown",
   "metadata": {},
   "source": [
    "## Building a Model - GRU"
   ]
  },
  {
   "cell_type": "code",
   "execution_count": 5,
   "metadata": {},
   "outputs": [
    {
     "name": "stdout",
     "output_type": "stream",
     "text": [
      "Model: \"sequential\"\n",
      "_________________________________________________________________\n",
      "Layer (type)                 Output Shape              Param #   \n",
      "=================================================================\n",
      "embedding (Embedding)        (None, 120, 16)           160000    \n",
      "_________________________________________________________________\n",
      "bidirectional (Bidirectional (None, 64)                9600      \n",
      "_________________________________________________________________\n",
      "dense (Dense)                (None, 6)                 390       \n",
      "_________________________________________________________________\n",
      "dense_1 (Dense)              (None, 1)                 7         \n",
      "=================================================================\n",
      "Total params: 169,997\n",
      "Trainable params: 169,997\n",
      "Non-trainable params: 0\n",
      "_________________________________________________________________\n"
     ]
    }
   ],
   "source": [
    "# model definition with GRU\n",
    "model_gru = tf.keras.Sequential([\n",
    "    tf.keras.layers.Embedding(vocab_size, embedding_dim, input_length=max_length),\n",
    "    tf.keras.layers.Bidirectional(tf.keras.layers.GRU(32)),\n",
    "    tf.keras.layers.Dense(6, activation='relu'),\n",
    "    tf.keras.layers.Dense(1, activation='sigmoid')\n",
    "])\n",
    "model_gru.compile(\n",
    "    loss='binary_crossentropy',\n",
    "    optimizer='adam',\n",
    "    metrics=['accuracy']\n",
    ")\n",
    "model_gru.summary()"
   ]
  },
  {
   "cell_type": "markdown",
   "metadata": {},
   "source": [
    "## Fitting"
   ]
  },
  {
   "cell_type": "code",
   "execution_count": 6,
   "metadata": {},
   "outputs": [
    {
     "name": "stdout",
     "output_type": "stream",
     "text": [
      "Epoch 1/50\n",
      "782/782 [==============================] - 130s 166ms/step - loss: 0.5262 - accuracy: 0.7094 - val_loss: 0.4091 - val_accuracy: 0.8121\n",
      "Epoch 2/50\n",
      "782/782 [==============================] - 127s 162ms/step - loss: 0.3025 - accuracy: 0.8780 - val_loss: 0.3516 - val_accuracy: 0.8503\n",
      "Epoch 3/50\n",
      "782/782 [==============================] - 126s 161ms/step - loss: 0.2351 - accuracy: 0.9089 - val_loss: 0.3707 - val_accuracy: 0.8426\n",
      "Epoch 4/50\n",
      "782/782 [==============================] - 145s 185ms/step - loss: 0.1828 - accuracy: 0.9323 - val_loss: 0.4541 - val_accuracy: 0.8328\n",
      "Epoch 5/50\n",
      "782/782 [==============================] - 138s 176ms/step - loss: 0.1306 - accuracy: 0.9532 - val_loss: 0.5498 - val_accuracy: 0.8111\n",
      "Epoch 6/50\n",
      "782/782 [==============================] - 70s 90ms/step - loss: 0.0970 - accuracy: 0.9655 - val_loss: 0.5346 - val_accuracy: 0.8220\n",
      "Epoch 7/50\n",
      "782/782 [==============================] - 48s 61ms/step - loss: 0.0664 - accuracy: 0.9778 - val_loss: 0.6927 - val_accuracy: 0.8181\n",
      "Epoch 8/50\n",
      "782/782 [==============================] - 57s 73ms/step - loss: 0.0473 - accuracy: 0.9846 - val_loss: 0.7589 - val_accuracy: 0.8114\n",
      "Epoch 9/50\n",
      "782/782 [==============================] - 54s 70ms/step - loss: 0.0374 - accuracy: 0.9882 - val_loss: 0.9743 - val_accuracy: 0.8052\n",
      "Epoch 10/50\n",
      "782/782 [==============================] - 60s 76ms/step - loss: 0.0270 - accuracy: 0.9912 - val_loss: 0.8749 - val_accuracy: 0.8128\n",
      "Epoch 11/50\n",
      "782/782 [==============================] - 58s 74ms/step - loss: 0.0185 - accuracy: 0.9938 - val_loss: 1.0389 - val_accuracy: 0.8130\n",
      "Epoch 12/50\n",
      "782/782 [==============================] - 57s 73ms/step - loss: 0.0170 - accuracy: 0.9948 - val_loss: 1.0614 - val_accuracy: 0.8114\n",
      "Epoch 13/50\n",
      "782/782 [==============================] - 63s 80ms/step - loss: 0.0176 - accuracy: 0.9936 - val_loss: 1.0248 - val_accuracy: 0.8037\n",
      "Epoch 14/50\n",
      "782/782 [==============================] - 57s 73ms/step - loss: 0.0151 - accuracy: 0.9951 - val_loss: 1.0387 - val_accuracy: 0.8136\n",
      "Epoch 15/50\n",
      "782/782 [==============================] - 53s 68ms/step - loss: 0.0117 - accuracy: 0.9958 - val_loss: 1.1236 - val_accuracy: 0.8120\n",
      "Epoch 16/50\n",
      "782/782 [==============================] - 54s 69ms/step - loss: 0.0064 - accuracy: 0.9982 - val_loss: 1.3117 - val_accuracy: 0.8074\n",
      "Epoch 17/50\n",
      "782/782 [==============================] - 53s 68ms/step - loss: 0.0129 - accuracy: 0.9956 - val_loss: 1.1825 - val_accuracy: 0.8074\n",
      "Epoch 18/50\n",
      "782/782 [==============================] - 54s 69ms/step - loss: 0.0102 - accuracy: 0.9966 - val_loss: 1.2154 - val_accuracy: 0.8058\n",
      "Epoch 19/50\n",
      "782/782 [==============================] - 53s 68ms/step - loss: 0.0053 - accuracy: 0.9985 - val_loss: 1.2934 - val_accuracy: 0.8019\n",
      "Epoch 20/50\n",
      "782/782 [==============================] - 53s 67ms/step - loss: 0.0059 - accuracy: 0.9981 - val_loss: 1.2927 - val_accuracy: 0.8116\n",
      "Epoch 21/50\n",
      "782/782 [==============================] - 53s 68ms/step - loss: 0.0091 - accuracy: 0.9972 - val_loss: 1.3431 - val_accuracy: 0.8082\n",
      "Epoch 22/50\n",
      "782/782 [==============================] - 53s 67ms/step - loss: 0.0080 - accuracy: 0.9973 - val_loss: 1.3793 - val_accuracy: 0.7953\n",
      "Epoch 23/50\n",
      "782/782 [==============================] - 52s 67ms/step - loss: 0.0057 - accuracy: 0.9983 - val_loss: 1.4306 - val_accuracy: 0.8132\n",
      "Epoch 24/50\n",
      "782/782 [==============================] - 56s 71ms/step - loss: 0.0051 - accuracy: 0.9984 - val_loss: 1.3847 - val_accuracy: 0.8114\n",
      "Epoch 25/50\n",
      "782/782 [==============================] - 57s 73ms/step - loss: 0.0047 - accuracy: 0.9984 - val_loss: 1.5672 - val_accuracy: 0.8135\n",
      "Epoch 26/50\n",
      "782/782 [==============================] - 48s 62ms/step - loss: 0.0088 - accuracy: 0.9972 - val_loss: 1.3454 - val_accuracy: 0.8115\n",
      "Epoch 27/50\n",
      "782/782 [==============================] - 50s 63ms/step - loss: 0.0042 - accuracy: 0.9986 - val_loss: 1.3543 - val_accuracy: 0.8116\n",
      "Epoch 28/50\n",
      "782/782 [==============================] - 53s 68ms/step - loss: 0.0020 - accuracy: 0.9994 - val_loss: 1.4480 - val_accuracy: 0.8098\n",
      "Epoch 29/50\n",
      "782/782 [==============================] - 54s 69ms/step - loss: 3.7799e-04 - accuracy: 1.0000 - val_loss: 1.6022 - val_accuracy: 0.8120\n",
      "Epoch 30/50\n",
      "782/782 [==============================] - 53s 67ms/step - loss: 7.5070e-05 - accuracy: 1.0000 - val_loss: 1.6831 - val_accuracy: 0.8113\n",
      "Epoch 31/50\n",
      "782/782 [==============================] - 53s 67ms/step - loss: 2.6281e-05 - accuracy: 1.0000 - val_loss: 1.7300 - val_accuracy: 0.8117\n",
      "Epoch 32/50\n",
      "782/782 [==============================] - 53s 67ms/step - loss: 1.6710e-05 - accuracy: 1.0000 - val_loss: 1.7909 - val_accuracy: 0.8122\n",
      "Epoch 33/50\n",
      "782/782 [==============================] - 54s 69ms/step - loss: 1.1306e-05 - accuracy: 1.0000 - val_loss: 1.8519 - val_accuracy: 0.8122\n",
      "Epoch 34/50\n",
      "782/782 [==============================] - 53s 68ms/step - loss: 7.7374e-06 - accuracy: 1.0000 - val_loss: 1.9111 - val_accuracy: 0.8120\n",
      "Epoch 35/50\n",
      "782/782 [==============================] - 53s 68ms/step - loss: 5.1908e-06 - accuracy: 1.0000 - val_loss: 1.9740 - val_accuracy: 0.8120\n",
      "Epoch 36/50\n",
      "782/782 [==============================] - 49s 63ms/step - loss: 3.4723e-06 - accuracy: 1.0000 - val_loss: 2.0362 - val_accuracy: 0.8120\n",
      "Epoch 37/50\n",
      "782/782 [==============================] - 49s 63ms/step - loss: 2.3132e-06 - accuracy: 1.0000 - val_loss: 2.1032 - val_accuracy: 0.8116\n",
      "Epoch 38/50\n",
      "782/782 [==============================] - 49s 62ms/step - loss: 1.5277e-06 - accuracy: 1.0000 - val_loss: 2.1689 - val_accuracy: 0.8116\n",
      "Epoch 39/50\n",
      "782/782 [==============================] - 49s 62ms/step - loss: 1.0088e-06 - accuracy: 1.0000 - val_loss: 2.2359 - val_accuracy: 0.8112\n",
      "Epoch 40/50\n",
      "782/782 [==============================] - 50s 64ms/step - loss: 6.6586e-07 - accuracy: 1.0000 - val_loss: 2.3035 - val_accuracy: 0.8116\n",
      "Epoch 41/50\n",
      "782/782 [==============================] - 51s 65ms/step - loss: 4.3531e-07 - accuracy: 1.0000 - val_loss: 2.3722 - val_accuracy: 0.8106\n",
      "Epoch 42/50\n",
      "782/782 [==============================] - 51s 65ms/step - loss: 2.8457e-07 - accuracy: 1.0000 - val_loss: 2.4449 - val_accuracy: 0.8113\n",
      "Epoch 43/50\n",
      "782/782 [==============================] - 53s 68ms/step - loss: 1.8799e-07 - accuracy: 1.0000 - val_loss: 2.5119 - val_accuracy: 0.8108\n",
      "Epoch 44/50\n",
      "782/782 [==============================] - 53s 68ms/step - loss: 1.2459e-07 - accuracy: 1.0000 - val_loss: 2.5812 - val_accuracy: 0.8103\n",
      "Epoch 45/50\n",
      "782/782 [==============================] - 51s 66ms/step - loss: 8.2442e-08 - accuracy: 1.0000 - val_loss: 2.6476 - val_accuracy: 0.8103\n",
      "Epoch 46/50\n",
      "782/782 [==============================] - 53s 68ms/step - loss: 5.4689e-08 - accuracy: 1.0000 - val_loss: 2.7113 - val_accuracy: 0.8101\n",
      "Epoch 47/50\n",
      "782/782 [==============================] - 52s 66ms/step - loss: 3.6646e-08 - accuracy: 1.0000 - val_loss: 2.7802 - val_accuracy: 0.8100\n",
      "Epoch 48/50\n",
      "782/782 [==============================] - 51s 65ms/step - loss: 2.4693e-08 - accuracy: 1.0000 - val_loss: 2.8479 - val_accuracy: 0.8102\n",
      "Epoch 49/50\n",
      "782/782 [==============================] - 49s 62ms/step - loss: 1.6858e-08 - accuracy: 1.0000 - val_loss: 2.9133 - val_accuracy: 0.8102\n",
      "Epoch 50/50\n",
      "782/782 [==============================] - 48s 62ms/step - loss: 1.1649e-08 - accuracy: 1.0000 - val_loss: 2.9750 - val_accuracy: 0.8103\n"
     ]
    }
   ],
   "source": [
    "num_epochs = 50\n",
    "history = model_gru.fit(\n",
    "    padded, \n",
    "    training_labels_final, \n",
    "    epochs=num_epochs, \n",
    "    validation_data=(\n",
    "        testing_padded, \n",
    "        testing_labels_final)\n",
    ")"
   ]
  },
  {
   "cell_type": "markdown",
   "metadata": {},
   "source": [
    "## Building a Model - LSTM"
   ]
  },
  {
   "cell_type": "code",
   "execution_count": null,
   "metadata": {},
   "outputs": [],
   "source": [
    "model_lstm = tf.keras.Sequential([\n",
    "    tf.keras.layers.Embedding(vocab_size, embedding_dim, input_length=max_length),\n",
    "    tf.keras.layers.Bidirectional(tf.keras.layers.LSTM(32)),\n",
    "    tf.keras.layers.Dense(6, activation='relu'),\n",
    "    tf.keras.layers.Dense(1, activation='sigmoid')\n",
    "])\n",
    "\n",
    "model_lstm.compile(\n",
    "    loss='binary_crossentropy',\n",
    "    optimizer='adam',\n",
    "    metrics=['accuracy']\n",
    ")\n",
    "\n",
    "model_lstm.summary()"
   ]
  },
  {
   "cell_type": "markdown",
   "metadata": {},
   "source": [
    "## Fitting"
   ]
  },
  {
   "cell_type": "code",
   "execution_count": null,
   "metadata": {},
   "outputs": [],
   "source": [
    "num_epochs = 50\n",
    "history = model_lstm.fit(\n",
    "    padded, \n",
    "    training_labels_final, \n",
    "    epochs=num_epochs, \n",
    "    validation_data=(\n",
    "        testing_padded, \n",
    "        testing_labels_final\n",
    "    )\n",
    ")"
   ]
  },
  {
   "cell_type": "markdown",
   "metadata": {},
   "source": [
    "## Building a Model - Conv1D"
   ]
  },
  {
   "cell_type": "code",
   "execution_count": null,
   "metadata": {},
   "outputs": [],
   "source": [
    "model_conv = tf.keras.Sequential([\n",
    "    tf.keras.layers.Embedding(vocab_size, embedding_dim, input_length=max_length),\n",
    "    tf.keras.layers.Conv1D(128, 5, activation='relu'),\n",
    "    tf.keras.layers.GlobalAveragePooling1D(),\n",
    "    tf.keras.layers.Dense(6, activation='relu'),\n",
    "    tf.keras.layers.Dense(1, activation='sigmoid')\n",
    "])\n",
    "\n",
    "model_conv.compile(\n",
    "    loss='binary_crossentropy',\n",
    "    optimizer='adam',\n",
    "    metrics=['accuracy']\n",
    ")\n",
    "\n",
    "model_conv.summary()"
   ]
  },
  {
   "cell_type": "markdown",
   "metadata": {},
   "source": [
    "## Fitting"
   ]
  },
  {
   "cell_type": "code",
   "execution_count": null,
   "metadata": {},
   "outputs": [],
   "source": [
    "num_epochs = 50\n",
    "history = model_conv.fit(\n",
    "    padded, \n",
    "    training_labels_final, \n",
    "    epochs=num_epochs, \n",
    "    validation_data=(\n",
    "        testing_padded, \n",
    "        testing_labels_final\n",
    "    )\n",
    ")"
   ]
  },
  {
   "cell_type": "markdown",
   "metadata": {},
   "source": [
    "## Visualising Accuracy and Loss"
   ]
  },
  {
   "cell_type": "code",
   "execution_count": 9,
   "metadata": {},
   "outputs": [
    {
     "data": {
      "image/png": "[encoded data removed]",
      "text/plain": [
       "<Figure size 432x288 with 1 Axes>"
      ]
     },
     "metadata": {
      "needs_background": "light"
     },
     "output_type": "display_data"
    },
    {
     "data": {
      "image/png": "[encoded data removed]",
      "text/plain": [
       "<Figure size 432x288 with 1 Axes>"
      ]
     },
     "metadata": {
      "needs_background": "light"
     },
     "output_type": "display_data"
    }
   ],
   "source": [
    "def plot_graphs(history, string):\n",
    "    plt.plot(history.history[string])\n",
    "    plt.plot(history.history['val_'+string])\n",
    "    plt.xlabel(\"Epochs\")\n",
    "    plt.ylabel(string)\n",
    "    plt.legend([string, 'val_'+string])\n",
    "    plt.show()\n",
    "\n",
    "plot_graphs(history, 'accuracy')\n",
    "plot_graphs(history, 'loss')"
   ]
  }
 ],
 "metadata": {
  "kernelspec": {
   "display_name": "Python 3",
   "language": "python",
   "name": "python3"
  },
  "language_info": {
   "codemirror_mode": {
    "name": "ipython",
    "version": 3
   },
   "file_extension": ".py",
   "mimetype": "text/x-python",
   "name": "python",
   "nbconvert_exporter": "python",
   "pygments_lexer": "ipython3",
   "version": "3.6.5"
  }
 },
 "nbformat": 4,
 "nbformat_minor": 2
}
