{
 "cells": [
  {
   "cell_type": "markdown",
   "metadata": {},
   "source": [
    "## Importing Libraries"
   ]
  },
  {
   "cell_type": "code",
   "execution_count": 1,
   "metadata": {},
   "outputs": [],
   "source": [
    "import os\n",
    "import wget\n",
    "import numpy as np \n",
    "import matplotlib.pyplot as plt\n",
    "import tensorflow.keras.utils as ku \n",
    "\n",
    "from tensorflow.keras import regularizers\n",
    "from tensorflow.keras.optimizers import Adam\n",
    "from tensorflow.keras.models import Sequential\n",
    "from tensorflow.keras.preprocessing.text import Tokenizer\n",
    "from tensorflow.keras.preprocessing.sequence import pad_sequences\n",
    "from tensorflow.keras.layers import Embedding, LSTM, Dense, Dropout, Bidirectional"
   ]
  },
  {
   "cell_type": "markdown",
   "metadata": {},
   "source": [
    "## Loading Data"
   ]
  },
  {
   "cell_type": "code",
   "execution_count": null,
   "metadata": {},
   "outputs": [],
   "source": [
    "path = os.getcwd()+\"\\..\\data\\sonnets.txt\"\n",
    "url = \"https://storage.googleapis.com/laurencemoroney-blog.appspot.com/sonnets.txt\"\n",
    "wget.download(url, out = path)"
   ]
  },
  {
   "cell_type": "markdown",
   "metadata": {},
   "source": [
    "## Tokenizing and Padding"
   ]
  },
  {
   "cell_type": "code",
   "execution_count": 2,
   "metadata": {},
   "outputs": [],
   "source": [
    "data = open('../data/sonnets.txt').read()\n",
    "\n",
    "corpus = data.lower().split(\"\\n\")\n",
    "\n",
    "tokenizer = Tokenizer()\n",
    "tokenizer.fit_on_texts(corpus)\n",
    "total_words = len(tokenizer.word_index) + 1"
   ]
  },
  {
   "cell_type": "code",
   "execution_count": 3,
   "metadata": {},
   "outputs": [],
   "source": [
    "# create input sequences using list of tokens\n",
    "input_sequences = []\n",
    "for line in corpus:\n",
    "    token_list = tokenizer.texts_to_sequences([line])[0]\n",
    "    for i in range(1, len(token_list)):\n",
    "        n_gram_sequence = token_list[:i+1]\n",
    "        input_sequences.append(n_gram_sequence)\n",
    "\n",
    "# pad sequences \n",
    "max_sequence_len = max([len(x) for x in input_sequences])\n",
    "input_sequences = np.array(pad_sequences(input_sequences, maxlen=max_sequence_len, padding='pre'))"
   ]
  },
  {
   "cell_type": "markdown",
   "metadata": {},
   "source": [
    "## Defining Predictors and Labels"
   ]
  },
  {
   "cell_type": "code",
   "execution_count": 4,
   "metadata": {},
   "outputs": [],
   "source": [
    "# create predictors and label\n",
    "predictors, label = input_sequences[:,:-1],input_sequences[:,-1]\n",
    "\n",
    "label = ku.to_categorical(label, num_classes=total_words)"
   ]
  },
  {
   "cell_type": "markdown",
   "metadata": {},
   "source": [
    "## Building a Model"
   ]
  },
  {
   "cell_type": "code",
   "execution_count": 5,
   "metadata": {},
   "outputs": [
    {
     "name": "stdout",
     "output_type": "stream",
     "text": [
      "Model: \"sequential\"\n",
      "_________________________________________________________________\n",
      "Layer (type)                 Output Shape              Param #   \n",
      "=================================================================\n",
      "embedding (Embedding)        (None, 10, 100)           321100    \n",
      "_________________________________________________________________\n",
      "bidirectional (Bidirectional (None, 10, 300)           301200    \n",
      "_________________________________________________________________\n",
      "dropout (Dropout)            (None, 10, 300)           0         \n",
      "_________________________________________________________________\n",
      "lstm_1 (LSTM)                (None, 100)               160400    \n",
      "_________________________________________________________________\n",
      "dense (Dense)                (None, 1605)              162105    \n",
      "_________________________________________________________________\n",
      "dense_1 (Dense)              (None, 3211)              5156866   \n",
      "=================================================================\n",
      "Total params: 6,101,671\n",
      "Trainable params: 6,101,671\n",
      "Non-trainable params: 0\n",
      "_________________________________________________________________\n",
      "None\n"
     ]
    }
   ],
   "source": [
    "model = Sequential()\n",
    "model.add(Embedding(total_words, 100, input_length=max_sequence_len-1))\n",
    "model.add(Bidirectional(LSTM(150, return_sequences = True)))\n",
    "model.add(Dropout(0.2))\n",
    "model.add(LSTM(100))\n",
    "model.add(Dense(total_words/2, activation='relu', kernel_regularizer=regularizers.l2(0.01)))\n",
    "model.add(Dense(total_words, activation='softmax'))\n",
    "model.compile(loss='categorical_crossentropy', optimizer='adam', metrics=['accuracy'])\n",
    "print(model.summary())"
   ]
  },
  {
   "cell_type": "code",
   "execution_count": 6,
   "metadata": {
    "scrolled": true
   },
   "outputs": [
    {
     "name": "stdout",
     "output_type": "stream",
     "text": [
      "Epoch 1/100\n",
      "484/484 [==============================] - 45s 92ms/step - loss: 6.9212 - accuracy: 0.0211\n",
      "Epoch 2/100\n",
      "484/484 [==============================] - 45s 93ms/step - loss: 6.5209 - accuracy: 0.0225\n",
      "Epoch 3/100\n",
      "484/484 [==============================] - 44s 91ms/step - loss: 6.4068 - accuracy: 0.0246\n",
      "Epoch 4/100\n",
      "484/484 [==============================] - 44s 92ms/step - loss: 6.3118 - accuracy: 0.0296\n",
      "Epoch 5/100\n",
      "484/484 [==============================] - 45s 94ms/step - loss: 6.2257 - accuracy: 0.0358\n",
      "Epoch 6/100\n",
      "484/484 [==============================] - 46s 95ms/step - loss: 6.1464 - accuracy: 0.0397\n",
      "Epoch 7/100\n",
      "484/484 [==============================] - 49s 101ms/step - loss: 6.0664 - accuracy: 0.0406s - loss: 6.0623  - ETA: 1s - loss: 6 - ETA: 0s - loss: 6.0661 - accura\n",
      "Epoch 8/100\n",
      "484/484 [==============================] - 44s 91ms/step - loss: 5.9663 - accuracy: 0.0438\n",
      "Epoch 9/100\n",
      "484/484 [==============================] - 44s 90ms/step - loss: 5.8669 - accuracy: 0.0485\n",
      "Epoch 10/100\n",
      "484/484 [==============================] - 45s 93ms/step - loss: 5.7575 - accuracy: 0.0563\n",
      "Epoch 11/100\n",
      "484/484 [==============================] - 45s 92ms/step - loss: 5.6424 - accuracy: 0.0619\n",
      "Epoch 12/100\n",
      "484/484 [==============================] - 45s 93ms/step - loss: 5.5404 - accuracy: 0.0678\n",
      "Epoch 13/100\n",
      "484/484 [==============================] - 45s 94ms/step - loss: 5.4447 - accuracy: 0.0741\n",
      "Epoch 14/100\n",
      "484/484 [==============================] - 47s 96ms/step - loss: 5.3532 - accuracy: 0.0766\n",
      "Epoch 15/100\n",
      "484/484 [==============================] - 45s 93ms/step - loss: 5.2673 - accuracy: 0.0824\n",
      "Epoch 16/100\n",
      "484/484 [==============================] - 44s 92ms/step - loss: 5.1819 - accuracy: 0.0903\n",
      "Epoch 17/100\n",
      "484/484 [==============================] - 45s 92ms/step - loss: 5.0955 - accuracy: 0.0960\n",
      "Epoch 18/100\n",
      "484/484 [==============================] - 46s 95ms/step - loss: 5.0103 - accuracy: 0.1004\n",
      "Epoch 19/100\n",
      "484/484 [==============================] - 44s 90ms/step - loss: 4.9292 - accuracy: 0.1075\n",
      "Epoch 20/100\n",
      "484/484 [==============================] - 43s 89ms/step - loss: 4.8449 - accuracy: 0.1127\n",
      "Epoch 21/100\n",
      "484/484 [==============================] - 44s 90ms/step - loss: 4.7557 - accuracy: 0.1204\n",
      "Epoch 22/100\n",
      "484/484 [==============================] - 43s 90ms/step - loss: 4.6707 - accuracy: 0.1303\n",
      "Epoch 23/100\n",
      "484/484 [==============================] - 44s 91ms/step - loss: 4.5830 - accuracy: 0.1388\n",
      "Epoch 24/100\n",
      "484/484 [==============================] - 44s 90ms/step - loss: 4.4953 - accuracy: 0.1456\n",
      "Epoch 25/100\n",
      "484/484 [==============================] - 45s 93ms/step - loss: 4.4163 - accuracy: 0.1544\n",
      "Epoch 26/100\n",
      "484/484 [==============================] - 44s 92ms/step - loss: 4.3282 - accuracy: 0.1630\n",
      "Epoch 27/100\n",
      "484/484 [==============================] - 45s 93ms/step - loss: 4.2395 - accuracy: 0.1723\n",
      "Epoch 28/100\n",
      "484/484 [==============================] - 44s 92ms/step - loss: 4.1578 - accuracy: 0.1828\n",
      "Epoch 29/100\n",
      "484/484 [==============================] - 44s 91ms/step - loss: 4.0703 - accuracy: 0.1952\n",
      "Epoch 30/100\n",
      "484/484 [==============================] - 44s 92ms/step - loss: 4.0046 - accuracy: 0.2022\n",
      "Epoch 31/100\n",
      "484/484 [==============================] - 44s 92ms/step - loss: 3.9130 - accuracy: 0.2182\n",
      "Epoch 32/100\n",
      "484/484 [==============================] - 44s 91ms/step - loss: 3.8382 - accuracy: 0.2293\n",
      "Epoch 33/100\n",
      "484/484 [==============================] - 47s 97ms/step - loss: 3.7472 - accuracy: 0.24941s - loss: 3\n",
      "Epoch 34/100\n",
      "484/484 [==============================] - 48s 100ms/step - loss: 3.6663 - accuracy: 0.26031s - loss:\n",
      "Epoch 35/100\n",
      "484/484 [==============================] - 52s 107ms/step - loss: 3.6136 - accuracy: 0.2733\n",
      "Epoch 36/100\n",
      "484/484 [==============================] - 46s 96ms/step - loss: 3.5410 - accuracy: 0.2874\n",
      "Epoch 37/100\n",
      "484/484 [==============================] - 47s 97ms/step - loss: 3.4623 - accuracy: 0.3071\n",
      "Epoch 38/100\n",
      "484/484 [==============================] - 45s 93ms/step - loss: 3.3906 - accuracy: 0.3182\n",
      "Epoch 39/100\n",
      "484/484 [==============================] - 44s 90ms/step - loss: 3.3176 - accuracy: 0.3351\n",
      "Epoch 40/100\n",
      "484/484 [==============================] - 43s 90ms/step - loss: 3.2519 - accuracy: 0.3476\n",
      "Epoch 41/100\n",
      "484/484 [==============================] - 43s 88ms/step - loss: 3.1988 - accuracy: 0.3585\n",
      "Epoch 42/100\n",
      "484/484 [==============================] - 43s 90ms/step - loss: 3.1315 - accuracy: 0.37711s - los\n",
      "Epoch 43/100\n",
      "484/484 [==============================] - 43s 90ms/step - loss: 3.0637 - accuracy: 0.3902\n",
      "Epoch 44/100\n",
      "484/484 [==============================] - 44s 90ms/step - loss: 3.0125 - accuracy: 0.4009\n",
      "Epoch 45/100\n",
      "484/484 [==============================] - 44s 92ms/step - loss: 2.9488 - accuracy: 0.4162\n",
      "Epoch 46/100\n",
      "484/484 [==============================] - 45s 93ms/step - loss: 2.8818 - accuracy: 0.4294\n",
      "Epoch 47/100\n",
      "484/484 [==============================] - 48s 98ms/step - loss: 2.8284 - accuracy: 0.4426\n",
      "Epoch 48/100\n",
      "484/484 [==============================] - 48s 99ms/step - loss: 2.7806 - accuracy: 0.4532\n",
      "Epoch 49/100\n",
      "484/484 [==============================] - 47s 97ms/step - loss: 2.7155 - accuracy: 0.4655\n",
      "Epoch 50/100\n",
      "484/484 [==============================] - 55s 114ms/step - loss: 2.6761 - accuracy: 0.4769\n",
      "Epoch 51/100\n",
      "484/484 [==============================] - 54s 111ms/step - loss: 2.6102 - accuracy: 0.4953\n",
      "Epoch 52/100\n",
      "484/484 [==============================] - 54s 112ms/step - loss: 2.5679 - accuracy: 0.5004\n",
      "Epoch 53/100\n",
      "484/484 [==============================] - 54s 111ms/step - loss: 2.5339 - accuracy: 0.5107\n",
      "Epoch 54/100\n",
      "484/484 [==============================] - 54s 112ms/step - loss: 2.4807 - accuracy: 0.5171\n",
      "Epoch 55/100\n",
      "484/484 [==============================] - 55s 113ms/step - loss: 2.4572 - accuracy: 0.5239\n",
      "Epoch 56/100\n",
      "484/484 [==============================] - 55s 114ms/step - loss: 2.3881 - accuracy: 0.5427\n",
      "Epoch 57/100\n",
      "484/484 [==============================] - 55s 114ms/step - loss: 2.3507 - accuracy: 0.5514\n",
      "Epoch 58/100\n",
      "484/484 [==============================] - 55s 113ms/step - loss: 2.3143 - accuracy: 0.5614\n",
      "Epoch 59/100\n",
      "484/484 [==============================] - 58s 120ms/step - loss: 2.2571 - accuracy: 0.5758\n",
      "Epoch 60/100\n",
      "484/484 [==============================] - 57s 117ms/step - loss: 2.2171 - accuracy: 0.5808\n",
      "Epoch 61/100\n",
      "484/484 [==============================] - 51s 105ms/step - loss: 2.1913 - accuracy: 0.5898\n",
      "Epoch 62/100\n",
      "484/484 [==============================] - 46s 95ms/step - loss: 2.1474 - accuracy: 0.5976\n",
      "Epoch 63/100\n",
      "484/484 [==============================] - 43s 88ms/step - loss: 2.1244 - accuracy: 0.6000\n",
      "Epoch 64/100\n",
      "484/484 [==============================] - 42s 87ms/step - loss: 2.0827 - accuracy: 0.6070\n",
      "Epoch 65/100\n",
      "484/484 [==============================] - 43s 90ms/step - loss: 2.0454 - accuracy: 0.6189\n",
      "Epoch 66/100\n",
      "484/484 [==============================] - 46s 95ms/step - loss: 2.0048 - accuracy: 0.6300\n",
      "Epoch 67/100\n",
      "484/484 [==============================] - 48s 99ms/step - loss: 1.9708 - accuracy: 0.6389\n",
      "Epoch 68/100\n",
      "484/484 [==============================] - 49s 102ms/step - loss: 1.9533 - accuracy: 0.6416\n",
      "Epoch 69/100\n",
      "484/484 [==============================] - 49s 100ms/step - loss: 1.9084 - accuracy: 0.6519\n",
      "Epoch 70/100\n",
      "484/484 [==============================] - 49s 102ms/step - loss: 1.8939 - accuracy: 0.6534\n",
      "Epoch 71/100\n",
      "484/484 [==============================] - 49s 101ms/step - loss: 1.8517 - accuracy: 0.6643s - l\n",
      "Epoch 72/100\n",
      "484/484 [==============================] - 47s 98ms/step - loss: 1.8226 - accuracy: 0.6694\n",
      "Epoch 73/100\n",
      "484/484 [==============================] - 46s 95ms/step - loss: 1.8026 - accuracy: 0.6756\n",
      "Epoch 74/100\n",
      "484/484 [==============================] - 46s 94ms/step - loss: 1.7616 - accuracy: 0.6861\n",
      "Epoch 75/100\n",
      "484/484 [==============================] - 48s 99ms/step - loss: 1.7388 - accuracy: 0.6909\n",
      "Epoch 76/100\n",
      "484/484 [==============================] - 59s 122ms/step - loss: 1.7153 - accuracy: 0.6937\n",
      "Epoch 77/100\n",
      "484/484 [==============================] - 52s 107ms/step - loss: 1.6909 - accuracy: 0.7009\n",
      "Epoch 78/100\n"
     ]
    },
    {
     "name": "stdout",
     "output_type": "stream",
     "text": [
      "484/484 [==============================] - 47s 97ms/step - loss: 1.6688 - accuracy: 0.69870s - loss: 1.6667 - ac\n",
      "Epoch 79/100\n",
      "484/484 [==============================] - 48s 99ms/step - loss: 1.6391 - accuracy: 0.7121\n",
      "Epoch 80/100\n",
      "484/484 [==============================] - 45s 94ms/step - loss: 1.6231 - accuracy: 0.7133\n",
      "Epoch 81/100\n",
      "484/484 [==============================] - 55s 113ms/step - loss: 1.6061 - accuracy: 0.7143s - loss: 1.6027 - \n",
      "Epoch 82/100\n",
      "484/484 [==============================] - 67s 138ms/step - loss: 1.5878 - accuracy: 0.7171\n",
      "Epoch 83/100\n",
      "484/484 [==============================] - 47s 97ms/step - loss: 1.5521 - accuracy: 0.7284\n",
      "Epoch 84/100\n",
      "484/484 [==============================] - 50s 104ms/step - loss: 1.5325 - accuracy: 0.7309s - l\n",
      "Epoch 85/100\n",
      "484/484 [==============================] - 48s 99ms/step - loss: 1.5247 - accuracy: 0.7340\n",
      "Epoch 86/100\n",
      "484/484 [==============================] - 47s 96ms/step - loss: 1.5133 - accuracy: 0.7347\n",
      "Epoch 87/100\n",
      "484/484 [==============================] - 48s 100ms/step - loss: 1.4699 - accuracy: 0.7465\n",
      "Epoch 88/100\n",
      "484/484 [==============================] - 47s 96ms/step - loss: 1.4512 - accuracy: 0.7488\n",
      "Epoch 89/100\n",
      "484/484 [==============================] - 50s 104ms/step - loss: 1.4362 - accuracy: 0.7544\n",
      "Epoch 90/100\n",
      "484/484 [==============================] - 52s 108ms/step - loss: 1.4330 - accuracy: 0.7511\n",
      "Epoch 91/100\n",
      "484/484 [==============================] - 50s 104ms/step - loss: 1.4132 - accuracy: 0.7549s - loss: 1.4\n",
      "Epoch 92/100\n",
      "484/484 [==============================] - 50s 104ms/step - loss: 1.3986 - accuracy: 0.7630\n",
      "Epoch 93/100\n",
      "484/484 [==============================] - 48s 99ms/step - loss: 1.3629 - accuracy: 0.7655\n",
      "Epoch 94/100\n",
      "484/484 [==============================] - 48s 99ms/step - loss: 1.3684 - accuracy: 0.7614\n",
      "Epoch 95/100\n",
      "484/484 [==============================] - 43s 88ms/step - loss: 1.3592 - accuracy: 0.7649\n",
      "Epoch 96/100\n",
      "484/484 [==============================] - 42s 86ms/step - loss: 1.3484 - accuracy: 0.7678\n",
      "Epoch 97/100\n",
      "484/484 [==============================] - 40s 82ms/step - loss: 1.3287 - accuracy: 0.7696\n",
      "Epoch 98/100\n",
      "484/484 [==============================] - 38s 78ms/step - loss: 1.3134 - accuracy: 0.7737\n",
      "Epoch 99/100\n",
      "484/484 [==============================] - 40s 82ms/step - loss: 1.2961 - accuracy: 0.7765\n",
      "Epoch 100/100\n",
      "484/484 [==============================] - 45s 92ms/step - loss: 1.2738 - accuracy: 0.78131s - los\n"
     ]
    }
   ],
   "source": [
    "history = model.fit(predictors, label, epochs=100, verbose=1)"
   ]
  },
  {
   "cell_type": "markdown",
   "metadata": {},
   "source": [
    "## Visualising Accuracy and Loss"
   ]
  },
  {
   "cell_type": "code",
   "execution_count": 7,
   "metadata": {},
   "outputs": [
    {
     "data": {
      "image/png": "[encoded data removed]",
      "text/plain": [
       "<Figure size 432x288 with 1 Axes>"
      ]
     },
     "metadata": {
      "needs_background": "light"
     },
     "output_type": "display_data"
    },
    {
     "data": {
      "image/png": "[encoded data removed]",
      "text/plain": [
       "<Figure size 432x288 with 1 Axes>"
      ]
     },
     "metadata": {
      "needs_background": "light"
     },
     "output_type": "display_data"
    }
   ],
   "source": [
    "acc = history.history['accuracy']\n",
    "loss = history.history['loss']\n",
    "\n",
    "epochs = range(len(acc))\n",
    "\n",
    "plt.plot(epochs, acc, 'b', label='Training accuracy')\n",
    "plt.title('Training accuracy')\n",
    "\n",
    "plt.figure()\n",
    "\n",
    "plt.plot(epochs, loss, 'b', label='Training Loss')\n",
    "plt.title('Training loss')\n",
    "plt.legend()\n",
    "\n",
    "plt.show()"
   ]
  },
  {
   "cell_type": "markdown",
   "metadata": {},
   "source": [
    "## Testing"
   ]
  },
  {
   "cell_type": "code",
   "execution_count": 9,
   "metadata": {},
   "outputs": [
    {
     "name": "stdout",
     "output_type": "stream",
     "text": [
      "----Predicted Poem---- \n",
      " Help me Obi Wan Kenobi, you're my only hope and heart tend aside you dearer eye shown green in men go days chide thee alone away have summer's tomb me view well brought of eyes staineth staineth staineth brought of riper days alone seen chide die blind alone shown lies live aside rare ' make mine eye had view ' now wealth more short ill living admire ill esteem'd shows me up torn prove vassalage die lies prove dwell my cross clearer shaken ' alone did prove old crime on thee slain alone more still still lie on in thee in good pride lies bear all too sort twain\n"
     ]
    }
   ],
   "source": [
    "seed_text = \"Help me Obi Wan Kenobi, you're my only hope\"\n",
    "next_words = 100\n",
    "  \n",
    "for _ in range(next_words):\n",
    "    token_list = tokenizer.texts_to_sequences([seed_text])[0]\n",
    "    token_list = pad_sequences([token_list], maxlen=max_sequence_len-1, padding='pre')\n",
    "    predicted = model.predict_classes(token_list, verbose=0)\n",
    "    output_word = \"\"\n",
    "    for word, index in tokenizer.word_index.items():\n",
    "        if index == predicted:\n",
    "            output_word = word\n",
    "            break\n",
    "    seed_text += \" \" + output_word\n",
    "print('----Predicted Poem---- \\n',seed_text)"
   ]
  }
 ],
 "metadata": {
  "kernelspec": {
   "display_name": "Python 3",
   "language": "python",
   "name": "python3"
  },
  "language_info": {
   "codemirror_mode": {
    "name": "ipython",
    "version": 3
   },
   "file_extension": ".py",
   "mimetype": "text/x-python",
   "name": "python",
   "nbconvert_exporter": "python",
   "pygments_lexer": "ipython3",
   "version": "3.6.5"
  }
 },
 "nbformat": 4,
 "nbformat_minor": 2
}
