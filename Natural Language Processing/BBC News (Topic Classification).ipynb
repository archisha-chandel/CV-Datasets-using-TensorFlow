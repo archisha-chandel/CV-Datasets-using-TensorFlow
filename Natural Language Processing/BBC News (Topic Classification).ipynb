{
 "cells": [
  {
   "cell_type": "markdown",
   "metadata": {},
   "source": [
    "## Importing Libraries"
   ]
  },
  {
   "cell_type": "code",
   "execution_count": 22,
   "metadata": {},
   "outputs": [],
   "source": [
    "import io\n",
    "import os\n",
    "import csv\n",
    "import wget\n",
    "\n",
    "import numpy as np\n",
    "import tensorflow as tf\n",
    "import matplotlib.pyplot as plt\n",
    "\n",
    "from tensorflow.keras.preprocessing.text import Tokenizer\n",
    "from tensorflow.keras.preprocessing.sequence import pad_sequences"
   ]
  },
  {
   "cell_type": "markdown",
   "metadata": {},
   "source": [
    "## Downloading Data"
   ]
  },
  {
   "cell_type": "code",
   "execution_count": 3,
   "metadata": {},
   "outputs": [
    {
     "name": "stdout",
     "output_type": "stream",
     "text": [
      "100% [..........................................................................] 5057493 / 5057493"
     ]
    },
    {
     "data": {
      "text/plain": [
       "'C:\\\\Users\\\\Parivi\\\\Desktop\\\\Archisha\\\\Coursera\\\\CV-Datasets-using-TensorFlow\\\\Natural Language Processing\\\\..\\\\data\\\\bbc-text.csv'"
      ]
     },
     "execution_count": 3,
     "metadata": {},
     "output_type": "execute_result"
    }
   ],
   "source": [
    "path = os.getcwd()+\"\\..\\data\\\\bbc-text.csv\"\n",
    "url = \"https://storage.googleapis.com/laurencemoroney-blog.appspot.com/bbc-text.csv\"\n",
    "wget.download(url, out = path)"
   ]
  },
  {
   "cell_type": "code",
   "execution_count": 5,
   "metadata": {},
   "outputs": [
    {
     "name": "stdout",
     "output_type": "stream",
     "text": [
      "153\n"
     ]
    }
   ],
   "source": [
    "sentences = []\n",
    "labels = []\n",
    "stopwords = [ \"a\", \"about\", \"above\", \"after\", \"again\", \"against\", \"all\", \"am\", \"an\", \"and\", \"any\", \"are\", \"as\", \"at\", \"be\", \"because\", \"been\", \"before\", \"being\", \"below\", \"between\", \"both\", \"but\", \"by\", \"could\", \"did\", \"do\", \"does\", \"doing\", \"down\", \"during\", \"each\", \"few\", \"for\", \"from\", \"further\", \"had\", \"has\", \"have\", \"having\", \"he\", \"he'd\", \"he'll\", \"he's\", \"her\", \"here\", \"here's\", \"hers\", \"herself\", \"him\", \"himself\", \"his\", \"how\", \"how's\", \"i\", \"i'd\", \"i'll\", \"i'm\", \"i've\", \"if\", \"in\", \"into\", \"is\", \"it\", \"it's\", \"its\", \"itself\", \"let's\", \"me\", \"more\", \"most\", \"my\", \"myself\", \"nor\", \"of\", \"on\", \"once\", \"only\", \"or\", \"other\", \"ought\", \"our\", \"ours\", \"ourselves\", \"out\", \"over\", \"own\", \"same\", \"she\", \"she'd\", \"she'll\", \"she's\", \"should\", \"so\", \"some\", \"such\", \"than\", \"that\", \"that's\", \"the\", \"their\", \"theirs\", \"them\", \"themselves\", \"then\", \"there\", \"there's\", \"these\", \"they\", \"they'd\", \"they'll\", \"they're\", \"they've\", \"this\", \"those\", \"through\", \"to\", \"too\", \"under\", \"until\", \"up\", \"very\", \"was\", \"we\", \"we'd\", \"we'll\", \"we're\", \"we've\", \"were\", \"what\", \"what's\", \"when\", \"when's\", \"where\", \"where's\", \"which\", \"while\", \"who\", \"who's\", \"whom\", \"why\", \"why's\", \"with\", \"would\", \"you\", \"you'd\", \"you'll\", \"you're\", \"you've\", \"your\", \"yours\", \"yourself\", \"yourselves\" ]\n",
    "print(len(stopwords))\n",
    "# Expected Output\n",
    "# 153"
   ]
  },
  {
   "cell_type": "code",
   "execution_count": 6,
   "metadata": {},
   "outputs": [
    {
     "name": "stdout",
     "output_type": "stream",
     "text": [
      "2225\n",
      "2225\n",
      "tv future hands viewers home theatre systems  plasma high-definition tvs  digital video recorders moving living room  way people watch tv will radically different five years  time.  according expert panel gathered annual consumer electronics show las vegas discuss new technologies will impact one favourite pastimes. us leading trend  programmes content will delivered viewers via home networks  cable  satellite  telecoms companies  broadband service providers front rooms portable devices.  one talked-about technologies ces digital personal video recorders (dvr pvr). set-top boxes  like us s tivo uk s sky+ system  allow people record  store  play  pause forward wind tv programmes want.  essentially  technology allows much personalised tv. also built-in high-definition tv sets  big business japan us  slower take off europe lack high-definition programming. not can people forward wind adverts  can also forget abiding network channel schedules  putting together a-la-carte entertainment. us networks cable satellite companies worried means terms advertising revenues well  brand identity  viewer loyalty channels. although us leads technology moment  also concern raised europe  particularly growing uptake services like sky+.  happens today  will see nine months years  time uk   adam hume  bbc broadcast s futurologist told bbc news website. likes bbc  no issues lost advertising revenue yet. pressing issue moment commercial uk broadcasters  brand loyalty important everyone.  will talking content brands rather network brands   said tim hanlon  brand communications firm starcom mediavest.  reality broadband connections  anybody can producer content.  added:  challenge now hard promote programme much choice.   means  said stacey jolna  senior vice president tv guide tv group  way people find content want watch simplified tv viewers. means networks  us terms  channels take leaf google s book search engine future  instead scheduler help people find want watch. kind channel model might work younger ipod generation used taking control gadgets play them. might not suit everyone  panel recognised. older generations comfortable familiar schedules channel brands know getting. perhaps not want much choice put hands  mr hanlon suggested.  end  kids just diapers pushing buttons already - everything possible available   said mr hanlon.  ultimately  consumer will tell market want.   50 000 new gadgets technologies showcased ces  many enhancing tv-watching experience. high-definition tv sets everywhere many new models lcd (liquid crystal display) tvs launched dvr capability built  instead external boxes. one example launched show humax s 26-inch lcd tv 80-hour tivo dvr dvd recorder. one us s biggest satellite tv companies  directtv  even launched branded dvr show 100-hours recording capability  instant replay  search function. set can pause rewind tv 90 hours. microsoft chief bill gates announced pre-show keynote speech partnership tivo  called tivotogo  means people can play recorded programmes windows pcs mobile devices. reflect increasing trend freeing multimedia people can watch want  want.\n"
     ]
    }
   ],
   "source": [
    "with open(\"../data/bbc-text.csv\", 'r') as csvfile:\n",
    "    reader = csv.reader(csvfile, delimiter=',')\n",
    "    next(reader)\n",
    "    for row in reader:\n",
    "        labels.append(row[0])\n",
    "        sentence = row[1]\n",
    "        for word in stopwords:\n",
    "            token = \" \" + word + \" \"\n",
    "            sentence = sentence.replace(token, \" \")\n",
    "        sentences.append(sentence)\n",
    "\n",
    "print(len(labels))\n",
    "print(len(sentences))\n",
    "print(sentences[0])\n",
    "# Expected Output\n",
    "# 2225\n",
    "# 2225\n",
    "# tv future hands viewers home theatre systems  plasma high-definition tvs  digital video recorders moving \n",
    "# living room  way people watch tv will radically different five years  time.  according expert panel gathered\n",
    "# annual consumer electronics show las vegas discuss new technologies will impact one favourite pastimes. \n",
    "# us leading trend  programmes content will delivered viewers via home networks  cable  satellite  telecoms \n",
    "# companies  broadband service providers front rooms portable devices.  one talked-about technologies ces digital\n",
    "# personal video recorders (dvr pvr). set-top boxes  like us s tivo uk s sky+ system  allow people record  store\n",
    "# play  pause forward wind tv programmes want.  essentially  technology allows much personalised tv. \n",
    "# also built-in high-definition tv sets  big business japan us  slower take off europe lack high-definition \n",
    "# programming. not can people forward wind adverts  can also forget abiding network channel schedules  putting \n",
    "# together a-la-carte entertainment. us networks cable satellite companies worried means terms advertising \n",
    "# revenues well  brand identity  viewer loyalty channels. although us leads technology moment  also concern raised \n",
    "# europe  particularly growing uptake services like sky+.  happens today  will see nine months years  time uk   \n",
    "# adam hume  bbc broadcast s futurologist told bbc news website. likes bbc  no issues lost advertising revenue yet. \n",
    "# pressing issue moment commercial uk broadcasters  brand loyalty important everyone.  will talking content brands\n",
    "# rather network brands   said tim hanlon  brand communications firm starcom mediavest.  reality broadband connections\n",
    "# anybody can producer content.  added:  challenge now hard promote programme much choice.   means  said stacey jolna\n",
    "# senior vice president tv guide tv group  way people find content want watch simplified tv viewers. means networks\n",
    "# us terms  channels take leaf google s book search engine future  instead scheduler help people find want watch. \n",
    "# kind channel model might work younger ipod generation used taking control gadgets play them. might not suit everyone\n",
    "# panel recognised. older generations comfortable familiar schedules channel brands know getting. perhaps not want\n",
    "# much choice put hands  mr hanlon suggested.  end  kids just diapers pushing buttons already - everything possible\n",
    "# available   said mr hanlon.  ultimately  consumer will tell market want.   50 000 new gadgets technologies showcased\n",
    "# ces  many enhancing tv-watching experience. high-definition tv sets everywhere many new models lcd (liquid crystal \n",
    "# display) tvs launched dvr capability built  instead external boxes. one example launched show humax s 26-inch lcd\n",
    "# tv 80-hour tivo dvr dvd recorder. one us s biggest satellite tv companies  directtv  even launched branded dvr show\n",
    "# 100-hours recording capability  instant replay  search function. set can pause rewind tv 90 hours. microsoft chief\n",
    "# bill gates announced pre-show keynote speech partnership tivo  called tivotogo  means people can play recorded \n",
    "# programmes windows pcs mobile devices. reflect increasing trend freeing multimedia people can watch want  want."
   ]
  },
  {
   "cell_type": "markdown",
   "metadata": {},
   "source": [
    "## Defining Hyper-Parameters"
   ]
  },
  {
   "cell_type": "code",
   "execution_count": 7,
   "metadata": {},
   "outputs": [],
   "source": [
    "vocab_size = 1000\n",
    "embedding_dim = 16\n",
    "max_length = 120\n",
    "trunc_type='post'\n",
    "padding_type='post'\n",
    "oov_tok = \"<OOV>\"\n",
    "training_portion = .8"
   ]
  },
  {
   "cell_type": "markdown",
   "metadata": {},
   "source": [
    "## Splitting Data"
   ]
  },
  {
   "cell_type": "code",
   "execution_count": 8,
   "metadata": {},
   "outputs": [
    {
     "name": "stdout",
     "output_type": "stream",
     "text": [
      "1780\n",
      "1780\n",
      "1780\n",
      "445\n",
      "445\n"
     ]
    }
   ],
   "source": [
    "train_size = int(len(sentences) * training_portion)\n",
    "\n",
    "train_sentences = sentences[:train_size]\n",
    "train_labels = labels[:train_size]\n",
    "\n",
    "validation_sentences = sentences[train_size:]\n",
    "validation_labels = labels[train_size:]\n",
    "\n",
    "print(train_size)\n",
    "print(len(train_sentences))\n",
    "print(len(train_labels))\n",
    "print(len(validation_sentences))\n",
    "print(len(validation_labels))\n",
    "\n",
    "# Expected output (if training_portion=.8)\n",
    "# 1780\n",
    "# 1780\n",
    "# 1780\n",
    "# 445\n",
    "# 445"
   ]
  },
  {
   "cell_type": "markdown",
   "metadata": {},
   "source": [
    "## Tokenizing and Padding"
   ]
  },
  {
   "cell_type": "code",
   "execution_count": 9,
   "metadata": {},
   "outputs": [
    {
     "name": "stdout",
     "output_type": "stream",
     "text": [
      "449\n",
      "120\n",
      "200\n",
      "120\n",
      "192\n",
      "120\n"
     ]
    }
   ],
   "source": [
    "tokenizer = Tokenizer(num_words = vocab_size, oov_token=oov_tok)\n",
    "tokenizer.fit_on_texts(train_sentences)\n",
    "word_index = tokenizer.word_index\n",
    "\n",
    "train_sequences = tokenizer.texts_to_sequences(train_sentences)\n",
    "train_padded = pad_sequences(train_sequences, padding=padding_type, maxlen=max_length)\n",
    "\n",
    "print(len(train_sequences[0]))\n",
    "print(len(train_padded[0]))\n",
    "\n",
    "print(len(train_sequences[1]))\n",
    "print(len(train_padded[1]))\n",
    "\n",
    "print(len(train_sequences[10]))\n",
    "print(len(train_padded[10]))\n",
    "\n",
    "# Expected Ouput\n",
    "# 449\n",
    "# 120\n",
    "# 200\n",
    "# 120\n",
    "# 192\n",
    "# 120"
   ]
  },
  {
   "cell_type": "code",
   "execution_count": 10,
   "metadata": {},
   "outputs": [
    {
     "name": "stdout",
     "output_type": "stream",
     "text": [
      "445\n",
      "(445, 120)\n"
     ]
    }
   ],
   "source": [
    "validation_sequences = tokenizer.texts_to_sequences(validation_sentences)\n",
    "validation_padded = pad_sequences(validation_sequences, padding=padding_type, maxlen=max_length)\n",
    "\n",
    "print(len(validation_sequences))\n",
    "print(validation_padded.shape)\n",
    "\n",
    "# Expected output\n",
    "# 445\n",
    "# (445, 120)"
   ]
  },
  {
   "cell_type": "code",
   "execution_count": 11,
   "metadata": {},
   "outputs": [
    {
     "name": "stdout",
     "output_type": "stream",
     "text": [
      "[4]\n",
      "[2]\n",
      "[1]\n",
      "(1780, 1)\n",
      "[5]\n",
      "[4]\n",
      "[3]\n",
      "(445, 1)\n"
     ]
    }
   ],
   "source": [
    "label_tokenizer = Tokenizer()\n",
    "label_tokenizer.fit_on_texts(labels)\n",
    "\n",
    "training_label_seq = np.array(label_tokenizer.texts_to_sequences(train_labels))\n",
    "validation_label_seq = np.array(label_tokenizer.texts_to_sequences(validation_labels))\n",
    "\n",
    "print(training_label_seq[0])\n",
    "print(training_label_seq[1])\n",
    "print(training_label_seq[2])\n",
    "print(training_label_seq.shape)\n",
    "\n",
    "print(validation_label_seq[0])\n",
    "print(validation_label_seq[1])\n",
    "print(validation_label_seq[2])\n",
    "print(validation_label_seq.shape)\n",
    "\n",
    "# Expected output\n",
    "# [4]\n",
    "# [2]\n",
    "# [1]\n",
    "# (1780, 1)\n",
    "# [5]\n",
    "# [4]\n",
    "# [3]\n",
    "# (445, 1)"
   ]
  },
  {
   "cell_type": "markdown",
   "metadata": {},
   "source": [
    "## Building a Model"
   ]
  },
  {
   "cell_type": "code",
   "execution_count": 12,
   "metadata": {},
   "outputs": [
    {
     "name": "stdout",
     "output_type": "stream",
     "text": [
      "Model: \"sequential\"\n",
      "_________________________________________________________________\n",
      "Layer (type)                 Output Shape              Param #   \n",
      "=================================================================\n",
      "embedding (Embedding)        (None, 120, 16)           16000     \n",
      "_________________________________________________________________\n",
      "global_average_pooling1d (Gl (None, 16)                0         \n",
      "_________________________________________________________________\n",
      "dense (Dense)                (None, 24)                408       \n",
      "_________________________________________________________________\n",
      "dense_1 (Dense)              (None, 6)                 150       \n",
      "=================================================================\n",
      "Total params: 16,558\n",
      "Trainable params: 16,558\n",
      "Non-trainable params: 0\n",
      "_________________________________________________________________\n"
     ]
    }
   ],
   "source": [
    "model = tf.keras.Sequential([\n",
    "    tf.keras.layers.Embedding(vocab_size, embedding_dim, input_length=max_length),\n",
    "    tf.keras.layers.GlobalAveragePooling1D(),\n",
    "    tf.keras.layers.Dense(24, activation='relu'),\n",
    "    tf.keras.layers.Dense(6, activation='softmax')\n",
    "])\n",
    "model.compile(loss='sparse_categorical_crossentropy',optimizer='adam',metrics=['accuracy'])\n",
    "model.summary()\n",
    "\n",
    "# Expected Output\n",
    "# Layer (type)                 Output Shape              Param #   \n",
    "# =================================================================\n",
    "# embedding (Embedding)        (None, 120, 16)           16000     \n",
    "# _________________________________________________________________\n",
    "# global_average_pooling1d (Gl (None, 16)                0         \n",
    "# _________________________________________________________________\n",
    "# dense (Dense)                (None, 24)                408       \n",
    "# _________________________________________________________________\n",
    "# dense_1 (Dense)              (None, 6)                 150       \n",
    "# =================================================================\n",
    "# Total params: 16,558\n",
    "# Trainable params: 16,558\n",
    "# Non-trainable params: 0"
   ]
  },
  {
   "cell_type": "code",
   "execution_count": 13,
   "metadata": {},
   "outputs": [
    {
     "name": "stdout",
     "output_type": "stream",
     "text": [
      "Epoch 1/30\n",
      "56/56 - 0s - loss: 1.7722 - accuracy: 0.2472 - val_loss: 1.7426 - val_accuracy: 0.2427\n",
      "Epoch 2/30\n",
      "56/56 - 0s - loss: 1.7046 - accuracy: 0.2719 - val_loss: 1.6604 - val_accuracy: 0.3416\n",
      "Epoch 3/30\n",
      "56/56 - 0s - loss: 1.6105 - accuracy: 0.3674 - val_loss: 1.5603 - val_accuracy: 0.3888\n",
      "Epoch 4/30\n",
      "56/56 - 0s - loss: 1.4933 - accuracy: 0.4264 - val_loss: 1.4383 - val_accuracy: 0.4674\n",
      "Epoch 5/30\n",
      "56/56 - 0s - loss: 1.3471 - accuracy: 0.5612 - val_loss: 1.2918 - val_accuracy: 0.6225\n",
      "Epoch 6/30\n",
      "56/56 - 0s - loss: 1.1856 - accuracy: 0.6803 - val_loss: 1.1370 - val_accuracy: 0.6562\n",
      "Epoch 7/30\n",
      "56/56 - 0s - loss: 1.0242 - accuracy: 0.7320 - val_loss: 0.9908 - val_accuracy: 0.6831\n",
      "Epoch 8/30\n",
      "56/56 - 0s - loss: 0.8798 - accuracy: 0.7725 - val_loss: 0.8698 - val_accuracy: 0.8067\n",
      "Epoch 9/30\n",
      "56/56 - 0s - loss: 0.7575 - accuracy: 0.8281 - val_loss: 0.7555 - val_accuracy: 0.8494\n",
      "Epoch 10/30\n",
      "56/56 - 0s - loss: 0.6471 - accuracy: 0.8831 - val_loss: 0.6587 - val_accuracy: 0.8674\n",
      "Epoch 11/30\n",
      "56/56 - 0s - loss: 0.5513 - accuracy: 0.8927 - val_loss: 0.5791 - val_accuracy: 0.8899\n",
      "Epoch 12/30\n",
      "56/56 - 0s - loss: 0.4702 - accuracy: 0.9129 - val_loss: 0.5140 - val_accuracy: 0.9011\n",
      "Epoch 13/30\n",
      "56/56 - 0s - loss: 0.4020 - accuracy: 0.9247 - val_loss: 0.4616 - val_accuracy: 0.8921\n",
      "Epoch 14/30\n",
      "56/56 - 0s - loss: 0.3457 - accuracy: 0.9376 - val_loss: 0.4113 - val_accuracy: 0.9101\n",
      "Epoch 15/30\n",
      "56/56 - 0s - loss: 0.2964 - accuracy: 0.9517 - val_loss: 0.3751 - val_accuracy: 0.9169\n",
      "Epoch 16/30\n",
      "56/56 - 0s - loss: 0.2567 - accuracy: 0.9590 - val_loss: 0.3444 - val_accuracy: 0.9191\n",
      "Epoch 17/30\n",
      "56/56 - 0s - loss: 0.2258 - accuracy: 0.9624 - val_loss: 0.3261 - val_accuracy: 0.9191\n",
      "Epoch 18/30\n",
      "56/56 - 0s - loss: 0.1985 - accuracy: 0.9657 - val_loss: 0.3060 - val_accuracy: 0.9236\n",
      "Epoch 19/30\n",
      "56/56 - 0s - loss: 0.1761 - accuracy: 0.9702 - val_loss: 0.2918 - val_accuracy: 0.9236\n",
      "Epoch 20/30\n",
      "56/56 - 0s - loss: 0.1572 - accuracy: 0.9736 - val_loss: 0.2770 - val_accuracy: 0.9213\n",
      "Epoch 21/30\n",
      "56/56 - 0s - loss: 0.1405 - accuracy: 0.9803 - val_loss: 0.2711 - val_accuracy: 0.9169\n",
      "Epoch 22/30\n",
      "56/56 - 0s - loss: 0.1266 - accuracy: 0.9820 - val_loss: 0.2594 - val_accuracy: 0.9258\n",
      "Epoch 23/30\n",
      "56/56 - 0s - loss: 0.1151 - accuracy: 0.9837 - val_loss: 0.2536 - val_accuracy: 0.9258\n",
      "Epoch 24/30\n",
      "56/56 - 0s - loss: 0.1040 - accuracy: 0.9865 - val_loss: 0.2487 - val_accuracy: 0.9213\n",
      "Epoch 25/30\n",
      "56/56 - 0s - loss: 0.0944 - accuracy: 0.9910 - val_loss: 0.2455 - val_accuracy: 0.9191\n",
      "Epoch 26/30\n",
      "56/56 - 0s - loss: 0.0861 - accuracy: 0.9893 - val_loss: 0.2424 - val_accuracy: 0.9169\n",
      "Epoch 27/30\n",
      "56/56 - 0s - loss: 0.0789 - accuracy: 0.9904 - val_loss: 0.2382 - val_accuracy: 0.9191\n",
      "Epoch 28/30\n",
      "56/56 - 0s - loss: 0.0719 - accuracy: 0.9921 - val_loss: 0.2342 - val_accuracy: 0.9258\n",
      "Epoch 29/30\n",
      "56/56 - 0s - loss: 0.0657 - accuracy: 0.9938 - val_loss: 0.2350 - val_accuracy: 0.9169\n",
      "Epoch 30/30\n",
      "56/56 - 0s - loss: 0.0605 - accuracy: 0.9938 - val_loss: 0.2302 - val_accuracy: 0.9236\n"
     ]
    }
   ],
   "source": [
    "num_epochs = 30\n",
    "history = model.fit(\n",
    "    train_padded, \n",
    "    training_label_seq,\n",
    "    epochs=num_epochs, \n",
    "    validation_data=(\n",
    "        validation_padded,\n",
    "        validation_label_seq\n",
    "    ), \n",
    "    verbose=2\n",
    ")"
   ]
  },
  {
   "cell_type": "markdown",
   "metadata": {},
   "source": [
    "## Visualising Accuracy and Loss"
   ]
  },
  {
   "cell_type": "code",
   "execution_count": 18,
   "metadata": {},
   "outputs": [
    {
     "data": {
      "image/png": "[encoded data removed]",
      "text/plain": [
       "<Figure size 432x288 with 1 Axes>"
      ]
     },
     "metadata": {
      "needs_background": "light"
     },
     "output_type": "display_data"
    },
    {
     "data": {
      "image/png": "[encoded data removed]",
      "text/plain": [
       "<Figure size 432x288 with 1 Axes>"
      ]
     },
     "metadata": {
      "needs_background": "light"
     },
     "output_type": "display_data"
    }
   ],
   "source": [
    "def plot_graphs(history, string):\n",
    "    plt.plot(history.history[string])\n",
    "    plt.plot(history.history['val_'+string])\n",
    "    plt.xlabel(\"Epochs\")\n",
    "    plt.ylabel(string)\n",
    "    plt.legend([string, 'val_'+string])\n",
    "    plt.show()\n",
    "\n",
    "plot_graphs(history, \"accuracy\")\n",
    "plot_graphs(history, \"loss\")"
   ]
  },
  {
   "cell_type": "markdown",
   "metadata": {},
   "source": [
    "## Identifying Topics"
   ]
  },
  {
   "cell_type": "code",
   "execution_count": 19,
   "metadata": {},
   "outputs": [],
   "source": [
    "reverse_word_index = dict([(value, key) for (key, value) in word_index.items()])\n",
    "\n",
    "def decode_sentence(text):\n",
    "    return ' '.join([reverse_word_index.get(i, '?') for i in text])"
   ]
  },
  {
   "cell_type": "code",
   "execution_count": 20,
   "metadata": {},
   "outputs": [
    {
     "name": "stdout",
     "output_type": "stream",
     "text": [
      "(1000, 16)\n"
     ]
    }
   ],
   "source": [
    "e = model.layers[0]\n",
    "weights = e.get_weights()[0]\n",
    "print(weights.shape) # shape: (vocab_size, embedding_dim)\n",
    "\n",
    "# Expected output\n",
    "# (1000, 16)"
   ]
  },
  {
   "cell_type": "code",
   "execution_count": 23,
   "metadata": {},
   "outputs": [],
   "source": [
    "out_v = io.open('vecs.tsv', 'w', encoding='utf-8')\n",
    "out_m = io.open('meta.tsv', 'w', encoding='utf-8')\n",
    "for word_num in range(1, vocab_size):\n",
    "  word = reverse_word_index[word_num]\n",
    "  embeddings = weights[word_num]\n",
    "  out_m.write(word + \"\\n\")\n",
    "  out_v.write('\\t'.join([str(x) for x in embeddings]) + \"\\n\")\n",
    "out_v.close()\n",
    "out_m.close()"
   ]
  },
  {
   "cell_type": "code",
   "execution_count": 24,
   "metadata": {},
   "outputs": [],
   "source": [
    "try:\n",
    "  from google.colab import files\n",
    "except ImportError:\n",
    "  pass\n",
    "else:\n",
    "  files.download('vecs.tsv')\n",
    "  files.download('meta.tsv')"
   ]
  }
 ],
 "metadata": {
  "kernelspec": {
   "display_name": "Python 3",
   "language": "python",
   "name": "python3"
  },
  "language_info": {
   "codemirror_mode": {
    "name": "ipython",
    "version": 3
   },
   "file_extension": ".py",
   "mimetype": "text/x-python",
   "name": "python",
   "nbconvert_exporter": "python",
   "pygments_lexer": "ipython3",
   "version": "3.6.5"
  }
 },
 "nbformat": 4,
 "nbformat_minor": 2
}
